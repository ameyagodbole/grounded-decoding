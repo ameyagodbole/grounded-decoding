{
 "cells": [
  {
   "cell_type": "code",
   "execution_count": 1,
   "id": "ec78a6f2-b209-462d-8499-296175aba07c",
   "metadata": {},
   "outputs": [],
   "source": [
    "from datetime import datetime\n",
    "import json\n",
    "import os\n",
    "import pickle\n",
    "import re\n",
    "import requests"
   ]
  },
  {
   "cell_type": "code",
   "execution_count": 2,
   "id": "9d4d80e4-c7e2-4958-a760-ab2094faf904",
   "metadata": {},
   "outputs": [],
   "source": [
    "from tqdm.notebook import tqdm"
   ]
  },
  {
   "cell_type": "code",
   "execution_count": 3,
   "id": "3053f48f-16ea-4b00-85bb-aa8336b8387c",
   "metadata": {},
   "outputs": [],
   "source": [
    "try:\n",
    "  import cohere\n",
    "except:\n",
    "  raise RuntimeError(\"Cohere library is not installed\")"
   ]
  },
  {
   "cell_type": "code",
   "execution_count": 4,
   "id": "7c958b24-7ecc-4b63-a582-6bffa9d75be9",
   "metadata": {},
   "outputs": [],
   "source": [
    "if not os.getenv(\"YOU_API_KEY\") or not os.getenv(\"COHERE_API_KEY\"):\n",
    "  raise RuntimeError(\"You need to set both YOU_API_KEY and COHERE_API_KEY environment variables to proceed\")"
   ]
  },
  {
   "cell_type": "code",
   "execution_count": 5,
   "id": "a1605c1c-0956-40eb-816b-a67c62280f4a",
   "metadata": {},
   "outputs": [],
   "source": [
    "cohere_client = cohere.Client(os.getenv(\"COHERE_API_KEY\"))"
   ]
  },
  {
   "cell_type": "markdown",
   "id": "d4740c04-6d39-4352-8f9c-ff6d68fadf01",
   "metadata": {},
   "source": [
    "## Read 20 queries from AllSouls and DaVinciDebate"
   ]
  },
  {
   "cell_type": "code",
   "execution_count": 6,
   "id": "dd7909d0-375f-4d9d-9440-bdd6ae0d8ed9",
   "metadata": {},
   "outputs": [],
   "source": [
    "all_souls_queries = []\n",
    "with open('../evaluating-verifiability-in-generative-search-engines/allsouls/allsouls.jsonl') as fin:\n",
    "    for line in fin:\n",
    "        all_souls_queries.append(json.loads(line.strip()))"
   ]
  },
  {
   "cell_type": "code",
   "execution_count": 7,
   "id": "2c79fee1-84ec-4cc6-b1c9-fb264f09afca",
   "metadata": {},
   "outputs": [],
   "source": [
    "# Subsample 10 queries\n",
    "re_you = re.compile(r\"\\byou\\b\", re.I)\n",
    "re_your = re.compile(r\"\\byour\\b\", re.I)\n",
    "all_souls_queries = [q for q in all_souls_queries if not re_you.findall(q['prompt_text']) and not re_your.findall(q['prompt_text'])]\n",
    "\n",
    "all_souls_queries = all_souls_queries[-10:]"
   ]
  },
  {
   "cell_type": "code",
   "execution_count": 8,
   "id": "9260a4ee-d41e-4e85-8064-c0b28559d7dc",
   "metadata": {},
   "outputs": [
    {
     "data": {
      "text/plain": [
       "[{'query': 'Should a political community be governed in the same way as a family?',\n",
       "  'id': '2022 General Paper II 18',\n",
       "  'source': 'allsouls'},\n",
       " {'query': 'What is the value in precision?',\n",
       "  'id': '2022 General Paper II 19',\n",
       "  'source': 'allsouls'},\n",
       " {'query': 'Does the ability to think presuppose linguistic competence?',\n",
       "  'id': '2022 General Paper II 20a',\n",
       "  'source': 'allsouls'},\n",
       " {'query': 'Does linguistic competence presuppose the ability to think?',\n",
       "  'id': '2022 General Paper II 20b',\n",
       "  'source': 'allsouls'},\n",
       " {'query': 'Ought everyone to pursue the most morally valuable career possible for them?',\n",
       "  'id': '2022 General Paper II 21',\n",
       "  'source': 'allsouls'},\n",
       " {'query': 'Is God gendered?',\n",
       "  'id': '2022 General Paper II 23',\n",
       "  'source': 'allsouls'},\n",
       " {'query': 'Should universities accept donations from oligarchs?',\n",
       "  'id': '2022 General Paper II 24',\n",
       "  'source': 'allsouls'},\n",
       " {'query': 'Should strip-searches be banned?',\n",
       "  'id': '2022 General Paper II 25',\n",
       "  'source': 'allsouls'},\n",
       " {'query': 'Should prisons be abolished?',\n",
       "  'id': '2022 General Paper II 26',\n",
       "  'source': 'allsouls'},\n",
       " {'query': 'Can a constitution be codified?',\n",
       "  'id': '2022 General Paper II 27',\n",
       "  'source': 'allsouls'}]"
      ]
     },
     "execution_count": 8,
     "metadata": {},
     "output_type": "execute_result"
    }
   ],
   "source": [
    "all_souls_queries = [{\"query\": q['prompt_text'], \"id\": q['exam_name'] + ' ' + q['prompt_id'], \"source\": \"allsouls\"} for q in all_souls_queries]\n",
    "all_souls_queries"
   ]
  },
  {
   "cell_type": "code",
   "execution_count": 9,
   "id": "ac46dce3-ae53-49e1-b122-fa5d613e85e6",
   "metadata": {},
   "outputs": [],
   "source": [
    "debate_queries = []\n",
    "with open('../evaluating-verifiability-in-generative-search-engines/davinci_debate/davinci-debate-1k.jsonl') as fin:\n",
    "    for line_ctr, line in enumerate(fin):\n",
    "        one_query = json.loads(line.strip())\n",
    "        one_query[\"id\"] = str(line_ctr)\n",
    "        one_query[\"source\"] = \"davinci_debate\"\n",
    "        debate_queries.append(one_query)"
   ]
  },
  {
   "cell_type": "code",
   "execution_count": 10,
   "id": "6802e661-e2f0-4c4e-b220-9f30d86ae978",
   "metadata": {},
   "outputs": [],
   "source": [
    "# Subsample 10 queries\n",
    "re_you = re.compile(r\"\\byou\\b\", re.I)\n",
    "re_your = re.compile(r\"\\byour\\b\", re.I)\n",
    "debate_queries = [q for q in debate_queries if not re_you.findall(q['query']) and not re_your.findall(q['query'])]\n",
    "\n",
    "debate_queries = debate_queries[-10:]"
   ]
  },
  {
   "cell_type": "code",
   "execution_count": 11,
   "id": "50255f05-b5f2-4898-97de-ec70d7c00f27",
   "metadata": {},
   "outputs": [
    {
     "data": {
      "text/plain": [
       "[{'query': 'Should genetically modified foods be more tightly regulated?',\n",
       "  'id': '990',\n",
       "  'source': 'davinci_debate'},\n",
       " {'query': 'Should drugs be legalized?',\n",
       "  'id': '991',\n",
       "  'source': 'davinci_debate'},\n",
       " {'query': 'Should foreign corporate ownership of U.S. companies be restricted?',\n",
       "  'id': '992',\n",
       "  'source': 'davinci_debate'},\n",
       " {'query': 'Should the use of animals for medical research be banned?',\n",
       "  'id': '993',\n",
       "  'source': 'davinci_debate'},\n",
       " {'query': 'Should genetically modified foods be allowed in grocery stores?',\n",
       "  'id': '994',\n",
       "  'source': 'davinci_debate'},\n",
       " {'query': 'Should lawmakers be subject to term limits?',\n",
       "  'id': '995',\n",
       "  'source': 'davinci_debate'},\n",
       " {'query': 'Should countries practice universal basic income?',\n",
       "  'id': '996',\n",
       "  'source': 'davinci_debate'},\n",
       " {'query': 'Should people be able to grow their own food in metro cities?',\n",
       "  'id': '997',\n",
       "  'source': 'davinci_debate'},\n",
       " {'query': 'Should governments provide universal basic income?',\n",
       "  'id': '998',\n",
       "  'source': 'davinci_debate'},\n",
       " {'query': 'Should there be a minimum wage for all jobs?',\n",
       "  'id': '999',\n",
       "  'source': 'davinci_debate'}]"
      ]
     },
     "execution_count": 11,
     "metadata": {},
     "output_type": "execute_result"
    }
   ],
   "source": [
    "debate_queries"
   ]
  },
  {
   "cell_type": "code",
   "execution_count": 12,
   "id": "5dd29811-a750-4366-9668-8dab4875485d",
   "metadata": {},
   "outputs": [
    {
     "name": "stdout",
     "output_type": "stream",
     "text": [
      "20\n"
     ]
    }
   ],
   "source": [
    "all_queries = all_souls_queries + debate_queries\n",
    "print(len(all_queries))"
   ]
  },
  {
   "cell_type": "markdown",
   "id": "b5635ffe-81d4-4e4e-bdbb-3a1afe63c93f",
   "metadata": {
    "jp-MarkdownHeadingCollapsed": true
   },
   "source": [
    "## Run Cohere search query generation (skip for now)"
   ]
  },
  {
   "cell_type": "code",
   "execution_count": 52,
   "id": "e7c1795a-b707-44e4-b403-da30c68da662",
   "metadata": {},
   "outputs": [],
   "source": [
    "# # Trial\n",
    "# first_query_sr_command = cohere_client.chat(\n",
    "#     model='command',\n",
    "#     message=all_queries[0][\"query\"],\n",
    "#     search_queries_only=True\n",
    "# )"
   ]
  },
  {
   "cell_type": "code",
   "execution_count": 55,
   "id": "3a46b7b0-c2e6-4db7-b59f-303d4b04def8",
   "metadata": {},
   "outputs": [],
   "source": [
    "# first_query_sr_command_r = cohere_client.chat(\n",
    "#     model='command-r',\n",
    "#     message=all_queries[0][\"query\"],\n",
    "#     search_queries_only=True\n",
    "# )"
   ]
  },
  {
   "cell_type": "code",
   "execution_count": 68,
   "id": "90d949e2-8af2-404d-8271-9a2a0d4b04d7",
   "metadata": {},
   "outputs": [
    {
     "data": {
      "text/plain": [
       "cohere.Chat {\n",
       "\tid: 711ac97b-6fc4-43ee-93ad-ca88258b371e\n",
       "\tresponse_id: 711ac97b-6fc4-43ee-93ad-ca88258b371e\n",
       "\tgeneration_id: 6ee025c4-5561-4a00-a684-e8e8484e4f84\n",
       "\tmessage: Should a political community be governed in the same way as a family?\n",
       "\ttext: \n",
       "\tconversation_id: None\n",
       "\tprompt: None\n",
       "\tchat_history: None\n",
       "\tpreamble: None\n",
       "\tclient: <cohere.client.Client object at 0x7f1203e1e160>\n",
       "\ttoken_count: {'response_tokens': 16, 'billed_tokens': 16}\n",
       "\tmeta: {'api_version': {'version': '1'}, 'billed_units': {'output_tokens': 16}}\n",
       "\tis_search_required: True\n",
       "\tcitations: None\n",
       "\tdocuments: None\n",
       "\tsearch_results: None\n",
       "\tsearch_queries: [{'text': 'Should a political community be governed in the same way as a family?', 'generation_id': '6ee025c4-5561-4a00-a684-e8e8484e4f84'}]\n",
       "\ttool_calls: None\n",
       "\tfinish_reason: COMPLETE\n",
       "}"
      ]
     },
     "execution_count": 68,
     "metadata": {},
     "output_type": "execute_result"
    }
   ],
   "source": [
    "# first_query_sr_command"
   ]
  },
  {
   "cell_type": "code",
   "execution_count": 69,
   "id": "de003ccb-08e2-4c86-a68f-1dfa76f9b0f7",
   "metadata": {},
   "outputs": [
    {
     "data": {
      "text/plain": [
       "cohere.Chat {\n",
       "\tid: bc05b8bb-3928-4dae-a871-71a9f5d58a02\n",
       "\tresponse_id: bc05b8bb-3928-4dae-a871-71a9f5d58a02\n",
       "\tgeneration_id: 19c095d0-0179-4903-b425-d2f7c9feb6d9\n",
       "\tmessage: Should a political community be governed in the same way as a family?\n",
       "\ttext: \n",
       "\tconversation_id: None\n",
       "\tprompt: None\n",
       "\tchat_history: None\n",
       "\tpreamble: None\n",
       "\tclient: <cohere.client.Client object at 0x7f1203e1e160>\n",
       "\ttoken_count: {'response_tokens': 12, 'billed_tokens': 12}\n",
       "\tmeta: {'api_version': {'version': '1'}, 'billed_units': {'output_tokens': 12}}\n",
       "\tis_search_required: True\n",
       "\tcitations: None\n",
       "\tdocuments: None\n",
       "\tsearch_results: None\n",
       "\tsearch_queries: [{'text': 'political community governance like family', 'generation_id': '19c095d0-0179-4903-b425-d2f7c9feb6d9'}, {'text': 'should countries be run like families', 'generation_id': '19c095d0-0179-4903-b425-d2f7c9feb6d9'}]\n",
       "\ttool_calls: None\n",
       "\tfinish_reason: COMPLETE\n",
       "}"
      ]
     },
     "execution_count": 69,
     "metadata": {},
     "output_type": "execute_result"
    }
   ],
   "source": [
    "# first_query_sr_command_r"
   ]
  },
  {
   "cell_type": "code",
   "execution_count": 72,
   "id": "5d070aa7-9f42-463f-8776-20e1d499a161",
   "metadata": {},
   "outputs": [
    {
     "data": {
      "text/plain": [
       "dict"
      ]
     },
     "execution_count": 72,
     "metadata": {},
     "output_type": "execute_result"
    }
   ],
   "source": [
    "# type(first_query_sr_command.meta)"
   ]
  },
  {
   "cell_type": "code",
   "execution_count": null,
   "id": "764869ed-9a9a-4ba3-8ae5-14ab55d8874a",
   "metadata": {},
   "outputs": [],
   "source": [
    "# for one_query in all_queries:\n",
    "#     one_ex_search_queries = cohere_client.chat(\n",
    "#         model='command-r',\n",
    "#         message=one_query[\"query\"],\n",
    "#         search_queries_only=True\n",
    "#         )\n",
    "#     one_query[\"separate_search_queries\"] = one_ex_search_queries.search_queries\n",
    "#     one_query[\"separate_search_queries_meta\"] = one_ex_search_queries.meta"
   ]
  },
  {
   "cell_type": "markdown",
   "id": "1b7b4846-6a79-43d3-812c-92d0dcad7a1c",
   "metadata": {},
   "source": [
    "## Run You.com search"
   ]
  },
  {
   "cell_type": "code",
   "execution_count": 77,
   "id": "8be97fb7-040b-4cae-8536-55da9525d3ea",
   "metadata": {},
   "outputs": [],
   "source": [
    "def get_ai_snippets_for_query(query):\n",
    "    headers = {\"X-API-Key\": os.environ[\"YOU_API_KEY\"]}\n",
    "    results = requests.get(\n",
    "        f\"https://api.ydc-index.io/search?query={query}\",\n",
    "        headers=headers,\n",
    "    ).json()\n",
    "\n",
    "    return results"
   ]
  },
  {
   "cell_type": "markdown",
   "id": "1d0a9f20-df50-44a2-9ed2-aedc6c5a6dd7",
   "metadata": {},
   "source": [
    "#### Trial"
   ]
  },
  {
   "cell_type": "code",
   "execution_count": 74,
   "id": "ea363e7f-3143-4651-ab19-2602d72ce277",
   "metadata": {},
   "outputs": [],
   "source": [
    "first_query_sr_you = get_ai_snippets_for_query(all_queries[0][\"query\"])"
   ]
  },
  {
   "cell_type": "code",
   "execution_count": 76,
   "id": "7f318d84-b4ad-463c-9ec4-54a25a5ab650",
   "metadata": {},
   "outputs": [
    {
     "name": "stdout",
     "output_type": "stream",
     "text": [
      "{\n",
      "  \"hits\": [\n",
      "    {\n",
      "      \"description\": \"It has been universally remarked that in our time the several members of a family stand upon an entirely new footing toward each other, that the distance which formerly separated a father from his son\",\n",
      "      \"snippets\": [\n",
      "        \"Thus the parent has not only a natural right, but he acquires a political right to command them: he is the author and the support of his family, but he is also its constituted ruler. In democracies, where the government picks out every individual singly from the mass to make him subservient to the general laws of the community, no such intermediate person is required: a father is there, in the eye of the law, only a member of the community, older and richer than his sons.\",\n",
      "        \"Democracy loosens social ties, but it draws the ties of nature more tight; it brings kindred more closely together, while it places the various members of the community more widely apart. ... From Democracy in America. At the age of twenty-five in 1831, Tocqueville boarded a schooner with his friend Gustave de Beaumont for a government-sanctioned trip to examine the American penal system.\",\n",
      "        \"Among aristocratic nations, social institutions recognize, in truth, no one in the family but the father; children are received by society at his hands; society governs him, he governs them. Thus the parent has not only a natural right, but he acquires a political right to command them: he is the author and the support of his family, but he is also its constituted ruler.\",\n",
      "        \"It may perhaps not be without utility to show how these changes which take place in family relations, are closely connected with the social and political revolution which is approaching its consummation under our own observation. To be a successful father\\u2026 there\\u2019s one absolute rule: when you have a kid, don\\u2019t look at it for the first two years. \\u2014Ernest Hemingway, 1954 \\u00b7 There are certain great social principles, which a people either introduces everywhere, or tolerates nowhere. In countries which are aristocratically constituted with all the gradations of rank, the government never makes a direct appeal to the mass of the governed: as men are united together, it is enough to lead the foremost\\u2014the rest will follow.\"\n",
      "      ],\n",
      "      \"title\": \"Family Politics | Lapham\\u2019s Quarterly\",\n",
      "      \"url\": \"https://www.laphamsquarterly.org/family/family-politics\"\n",
      "    },\n",
      "    {\n",
      "      \"description\": \"The family as a model for the organization of the state is a theory of political philosophy. It explains the structure of certain kinds of state in terms of the structure of the family (as a model or as a claim about the historical growth of the state), or it attempts to justify certain types ...\",\n",
      "      \"snippets\": [\n",
      "        \"Aristotle often describes personal and domestic relationships in terms of different forms of government. He gives examples such as men and their domestic animals, wives, slaves, and children. He says, for example: \\\"the government of a household is a monarchy, since every house is governed by a single ruler.\\\"(2)/ \\\"The rule of a household is a monarchy, for every house is under one head\\\"[2] Later in the same text, he says that husbands exercise a republican government over their wives and monarchical government over their children, and that they exhibit political office over slaves and royal office over the family in general. (Politics Bk I, \\u00a7v, 1\\u20132; 1259a 35\\u20131259b 1)\\nHowever, while he is prepared to use political terms as metaphors for domestic relationships, he is equally clear that such metaphors are limited:\",\n",
      "        \"Family as a model for the state\\nThis article possibly contains original research. (January 2023)\\nThe family as a model for the organization of the state is a theory of political philosophy. It explains the structure of certain kinds of state in terms of the structure of the family (as a model or as a claim about the historical growth of the state), or it attempts to justify certain types of state by appeal to the structure of the family. The first known writer to use it (certainly in any clear and developed way) was Aristotle, who argued that the natural progression of human beings was from the family via small communities to the polis.\\nMany writers from ancient times to the present have seen parallels between the family and the forms of the state. In particular, monarchists have argued that the state mirrors the patriarchal family, with the people obeying the king as children obey their father.\\nAncient Greek thought[edit]\"\n",
      "      ],\n",
      "      \"title\": \"Family as a model for the state - Wikipedia\",\n",
      "      \"url\": \"https://en.wikipedia.org/wiki/Family_as_a_model_for_the_state\"\n",
      "    },\n",
      "    {\n",
      "      \"description\": \"To understand the impact of the national government on their daily lives and the lives of their communities, citizens need to understand how it functions. To deliberate with other citizens about political action and to influence governmental actions that affect their lives, citizens need to ...\",\n",
      "      \"snippets\": [\n",
      "        \"- evaluate the usefulness of other forms of political participation in influencing public policy, e.g., attending political and governmental meetings, filing a legal challenge, demonstrating, contacting public officials, working in campaigns, contributing money to political parties or causes, writing letters, boycotting, community organizing, petitioning, picketing, expressing opinions on talk shows, running for political office\\n- Political leadership and careers in public service. Students should be able to evaluate, take, and defend positions about the functions of leadership in an American constitutional democracy.\\nTo achieve this standard, students should be able to\\n- explain the functions of political leadership and why leadership is a vital necessity in American constitutional democracy\\n- describe various ways one can exercise leadership in public affairs\\n- describe opportunities for citizens to engage in careers in public service\",\n",
      "        \"To answer the question \\\"Why should I participate in the political system?\\\" the citizen needs to examine and evaluate the relationships between the attainment of individual and public goals on one hand and participation in the life of the political community on the other.\\nIf American constitutional democracy is to endure, its citizens must recognize that it is not \\\"a machine that would go of itself.\\\" They also must be aware of the difficulty of establishing free institutions, as evidenced by the experience of the Founders as well as events in the contemporary world. American constitutional democracy requires the continuing and dedicated participation of an attentive, knowledgeable, and reflective citizenry.\\n- The relationship between politics and the attainment of individual and public goals. Students should be able to evaluate, take and defend positions on the relationship between politics and the attainment of individual and public goals.\",\n",
      "        \"An understanding of the place of law in the American constitutional system enhances citizens' capacity to appreciate the importance of law in protecting individual rights and promoting the common good. This understanding provides a basis for deciding whether to support new laws and changes in existing law.\\n- The place of law in American society.Students should be able to evaluate, take, and defend positions on the role and importance of law in the American political system.\\nTo achieve this standard, students should be able to\\n- explain why the rule of law has a central place in American society, e.g., it\\n- establishes limits on both those who govern and the governed\\n- makes possible a system of ordered liberty that protects the basic rights of citizens\\n- promotes the common good.\\n- describe historical and contemporary events and practices that illustrate the central place of the rule of law, e.g.,\",\n",
      "        \"To achieve this standard, students should be able to\\n- explain the relationship of individual participation in the political process to the realization of the fundamental values of American constitutional democracy\\n- explain the relationship between participation in the political process and the attainment of individual and collective goals\\n- The difference between political and social participation. Students should be able to explain the difference between political and social participation.\\nTo achieve this standard, students should be able to\\n- explain what distinguishes participation in government and political life from nonpolitical participation in civil society and private life, e.g., participating in a campaign to change laws regulating nursing homes as opposed to volunteering to work in a nursing home\\n- evaluate the importance of both political and social participation to American constitutional democracy\",\n",
      "        \"To achieve this standard, students should be able to\\n- explain the relationship of individual\\nparticipation in the political process to the realization of the fundamental values of American constitutional democracy\\n- explain the relationship between\\nparticipation in the political process and the attainment of individual and collective goals\\n- explain the relationship of individual participation in the political process to the realization of the fundamental values of American constitutional democracy\\n- The difference between political and social participation. Students should be able to explain the difference between political and social\\nparticipation.\\nTo achieve this standard, students should be able to\\n- explain what distinguishes participation\\nin government and political life from nonpolitical participation in civil society and private life, e.g., participating in a campaign to change laws regulating nursing homes as opposed to volunteering to work in a nursing home\",\n",
      "        \"- evaluate the importance of both political\\nand social participation to American constitutional democracy\\n- explain what distinguishes participation in government and political life from nonpolitical participation in civil society and private life, e.g., participating in a campaign to change laws regulating nursing homes as opposed to volunteering to work in a nursing home\\n- Forms of political participation. Students should be able to evaluate, take, and defend positions about the means that citizens should use to monitor and influence the formation and implementation of public policy.\\nTo achieve this standard, students should be able to\\n- describe the many ways citizens can\\nparticipate in the political process at local, state, and national levels\\n- describe historical and current examples of\",\n",
      "        \"To understand their nation, citizens should appreciate the nature and importance of their political culture, which provides a foundation for the stability of their system, and its capacity to respond to the needs and interests of the people through peaceful change.\\n- American national identity and political culture.Students should be able to explain the importance of shared political and civic beliefs and values to the maintenance of constitutional democracy in an increasingly diverse American society.\\nTo achieve this standard, students should be able to\\n- explain that shared political and civic beliefs and values define an American citizen rather than ethnicity, race, religion, class, language, gender, or national origin\\n- explain the shared ideas and values of American political culture as set forth in\\n- basic documents such as the Declaration of Independence, the United States Constitution and Bill of Rights\",\n",
      "        \"- describe historical and current examples of\\ncitizen movements seeking to expand liberty, to insure the equal rights of all citizens, and/or to realize other values fundamental to American constitutional democracy, such as the suffrage and civil rights movements\\n- explain what civil disobedience is, how it\\ndiffers from other forms of protest, what its consequences might be, and evaluate the circumstances under which it might be justified\\n- evaluate the importance of voting as a form\\nof political participation\\n- evaluate the usefulness of other forms of\\npolitical participation in influencing public policy, e.g., attending political and governmental meetings, filing a legal challenge, demonstrating, contacting public officials, working in campaigns, contributing money to political parties or causes, writing letters, boycotting, community organizing, petitioning, picketing, expressing opinions on talk shows, running for political office\",\n",
      "        \"- people have a right to create a government to protect their rights\\n- governments are established for the limited purposes of securing individual rights\\n- authority is derived from consent of the governed\\n- people have the right to alter or abolish government when it fails to fulfill its purposes\\nTo achieve this standard, students should be able to\\n- define a \\\"republic\\\" as a state in which the citizenry as a whole is considered sovereign but which is governed by elected representatives rather than directly by the people, as in direct democracy\\n- explain major ideas of republicanism, i.e.,\\n- government of a republic seeks the public or common good rather than the good of a particular group or class of society\\n- \\\"civic virtue\\\" of citizens is essential; civic virtue means that citizens put the public or common good above their private interests\",\n",
      "        \"If citizens want their voices to be heard, they must become active participants in the political process. Although elections, campaigns, and voting are at the center of democratic institutions, citizens should be aware that beyond electoral politics there is a wide range of participatory opportunities available to them. These possibilities include attending political meetings, contacting public officials, joining advocacy groups and political parties, and taking part in demonstrations.\\nPolitical leadership and careers in public service are vitally important in a democratic society. Citizens need to understand the contributions of those in public service as well as the practical and ethical dilemmas political leaders face.\",\n",
      "        \"- Relationships among personal, political, and economic rights. Students should be able to evaluate, take, and defend positions on the relationships among personal, political, and economic rights.\\nTo achieve this standard, students should be able to\\n- explain the relationship between the economic right to acquire, use, transfer, and dispose of property to political rights\\n- explain the relationship of economic rights such as the right to choose one's work, to change employment, and to join a labor union and other lawful associations to political rights\\n- explain and give examples of situations in which personal, political, or economic rights are in conflict\\n- evaluate the argument that poverty, unemployment, and urban decay serve to limit both political and economic rights\\n- evaluate the argument that personal, political, and economic rights reinforce each other\",\n",
      "        \"- Forms of political participation. Students should be able to evaluate, take, and defend positions about the means that citizens should use to monitor and influence the formation and implementation of public policy.\\nTo achieve this standard, students should be able to\\n- describe the many ways citizens can participate in the political process at local, state, and national levels\\n- describe historical and current examples of citizen movements seeking to expand liberty, to insure the equal rights of all citizens, and/or to realize other values fundamental to American constitutional democracy, such as the suffrage and civil rights movements\\n- explain what civil disobedience is, how it differs from other forms of protest, what its consequences might be, and evaluate the circumstances under which it might be justified\\n- evaluate the importance of voting as a form of political participation\",\n",
      "        \"- describe the many ways citizens can participate in the political process at local, state, and national levels\\n- Political leadership and careers in public service. Students should be able to evaluate, take, and defend positions about the functions of leadership in an American constitutional democracy.\\nTo achieve this standard, students should be able to\\n- explain the functions of political leadership and why leadership is a vital necessity in American constitutional democracy\\n- describe various ways one can exercise\\nleadership in public affairs\\n- describe opportunities for citizens to engage in careers in public service\\n- describe the personal qualities necessary\\nfor political leadership\\n- explain and evaluate ethical dilemmas that\\nmight confront political leaders\\n- explain the functions of political leadership and why leadership is a vital necessity in American constitutional democracy\",\n",
      "        \"Congress shall make no law respecting an establishment of religion, or prohibiting the free exercise thereof; or abridging the freedom of speech, or of the press, or the right of the people peaceably to assemble, and to petition the Government for a redress of grievances. First Amendment (1791)\\n- Political rights. Students should be able to evaluate, take, and defend positions on issues regarding political rights.\\nTo achieve this standard, students should be able to\\n- explain the meaning of political rights as distinguished from personal rights, e.g., the right of free speech for political discussion as distinct from the right of free speech for expression of one's personal tastes and interests, or the right to register to vote as distinct from the right to live where one chooses\",\n",
      "        \"- identify different varieties of law, e.g., divine law, natural law, common law, statute law, international law\\nWherever Law ends, Tyranny begins. John Locke (1690)\\n- explain alternative ideas about the purposes and functions of law such as\\n- regulating relationships among people and between people and their government\\n- providing order, predictability, security, and established procedures for the management of conflict\\n- specifying the allocation of rights and responsibilities and of benefits and burdens\\n- providing the ultimate source of authority in a political community\\n- regulating social and economic relationships in civil society\\n- explain how the rule of law can be used to restrict the actions of private citizens and government officials alike in order to protect the rights of individuals and to promote the common good\\nTo achieve this standard, students should be able to\",\n",
      "        \"- explain how the purposes served by a government affect relationships between the individual and government and between government and society as a whole, e.g., the purpose of promoting a religious vision of what society should be like may require a government to restrict individual thought and actions and place strict controls on the whole of society\\nB. What are the essential characteristics of limited and unlimited government?\\nLimited government provides a basis for protecting individual rights and promoting the common good in contrast to unlimited government which endangers these values. Limited government is constitutional government. Unlimited governments include authoritarian and totalitarian systems.\\nThe rule of law is an essential component of limited government. The central notion of a rule of law is that society is governed according to widely known and accepted rules followed not only by the governed but also by those in authority.\",\n",
      "        \"The rule of law operates within a framework provided by the United States Constitution. It establishes limits on both those who govern and the governed, making possible a system of ordered liberty which protects the basic rights of citizens and promotes the common good. This basic notion of the rule of law has been accompanied by the ideal of equal protection of the law, a central theme in the history of the United States.\\nLaw pervades American society. Americans look to the principal varieties of law--constitutional, civil, and criminal--for the protection of their rights to life, liberty, and property. It is often argued, however, that Americans are overly dependent on the legal system to manage disputes about social, economic, and political problems rather than using other means available to them such as private negotiations and participation in the political process.\",\n",
      "        \"- evaluate current criticisms of campaigns and proposals for their reform\\nTo achieve this standard, students should be able to\\n- identify and explain the historical role of various associations and groups active in American politics, e.g., political organizations, political action committees (PACs), interest groups, voluntary and civic associations, professional organizations, unions, religious groups\\n- describe, giving historical and contemporary examples, the role of associations and groups in performing functions otherwise performed by government, such as social welfare and education\\n- describe the contemporary roles of associations and groups in local, state, and national politics\\n- evaluate the degree to which associations and groups enhance citizen participation in American political life\\nTo achieve this standard, students should be able to\\n- describe a current issue of public policy at local, state, or national level\",\n",
      "        \"9-12 Content Standards\\nI. WHAT ARE CIVIC LIFE, POLITICS, AND GOVERNMENT?\\nA. What is civic life? What is politics? What is government? Why are government and politics necessary? What purposes should government serve?\\nCivic life is the public life of the citizen concerned with the affairs of the community and nation as contrasted with private or personal life, which is devoted to the pursuit of private and personal interests.\\nPolitics is a process by which a group of people, whose opinions or interests might be divergent, reach collective decisions that are generally regarded as binding on the group and enforced as common policy. Political life enables people to accomplish goals they could not realize as individuals. Politics necessarily arises whenever groups of people live together, since they must always reach collective decisions of one kind or another.\",\n",
      "        \"American constitutional democracy cannot accomplish its purposes, however,unless its citizens are inclined to participate thoughtfully in public affairs. Traits of public character such as public spiritedness, civility, respect for law, critical mindedness, and a willingness to negotiate and compromise are indispensable for its vitality.\\nThese traits of private and public character also contribute to the political efficacy of the individual, the healthy functioning of the political system, and the individual's sense of dignity and worth.\\n- Dispositions that lead the citizen to be an independent member of society. Students should be able to evaluate, take, and defend positions on the importance to American constitutional democracy of dispositions that lead individuals to become independent members of society.\\nTo achieve this standard, students should be able to\",\n",
      "        \"- other sources such as The Federalist and Anti-federalist writings, the Declaration of Sentiments of the Seneca Falls Convention of 1848, Abraham Lincoln's \\\"Gettysburg Address,\\\" Woodrow Wilson's \\\"Fourteen Points,\\\" Franklin Roosevelt's \\\"Four Freedoms,\\\" Martin Luther King's \\\"Letter from the Birmingham Jail,\\\" and many landmark decisions of the Supreme Court of the United States\\n- describe beliefs common to American political culture, such as the belief in equality of opportunity; mistrust of power, as well as high expectations of what elected officials and government should do; the need to admit to faults or shortcomings in their society; and the belief that they can individually and through collective effort alleviate social, economic, or political problems\\nTo achieve this standard, students should be able to\\n- describe political conflict in the United States both historically and at present, such as conflict about\\n- geographic or sectional interests\\n- slavery and indentured servitude\",\n",
      "        \"American constitutional democracy is dynamic and sometimes disorderly. The political process is complex and does not always operate in a smooth and predictable manner. Individually and in groups, citizens attempt to influence those in power. In turn, those in power attempt to influence citizens. In this process, the public agenda--the most pressing issues of the day--is set, and public opinion regarding these issues is formed.\\nIf citizens do not understand the political process and how to participate in it effectively, they may feel overwhelmed and alienated. An understanding of the political process is a necessary prerequisite for effective and responsible participation in the making of public policy.\\n- The public agenda.Students should be able to evaluate, take, and defend positions about how the public agenda is set.\\nTo achieve this standard, students should be able to\",\n",
      "        \"Few rights, if any, are considered absolute. Rights may reinforce or conflict with each other or with other values and interests and require reasonable limitations. Therefore, it is important for citizens to develop a framework that clarifies their ideas about rights and the relationships among rights and other values and interests. This framework provides a basis for making reasoned decisions about the proper scope and limits of rights.\\n- Personal rights. Students should be able to evaluate, take, and defend positions on issues regarding personal rights.\\nTo achieve this standard, students should be able to\\n- explain the meaning of personal rights as distinguished from political rights, e.g., the right to privacy or the right to freedom of conscience as distinguished from the political right to peaceably assemble and petition for a redress of grievances\",\n",
      "        \"- describe the impact on other nations of the American Revolution and of the values and principles expressed in the Declaration of Independence and the United States Constitution including the Bill of Rights\\n- describe the influence abroad of American ideas about rights and how the ideas of others about rights have influenced Americans\\n- Political developments.Students should be able to evaluate, take, anddefend positions about the effects of significant international political developments on the United States and other nations.\\nTo achieve this standard, students should be able to\\n- explain the effects on the United States of significant world political developments, e.g., the French, Russian, and Chinese Revolutions; rise of nationalism; World Wars I and II; decline of colonialism; terrorism; multiplication of nation-states and the proliferation of conflict within them; the emergence of regional organizations such as the European Union\",\n",
      "        \"- identify the major documentary statements of political rights--the Declaration of Independence, the Northwest Ordinance, the United States Constitution including the Bill of Rights, state constitutions and bills of rights, civil rights legislation, court decisions\\n- explain the importance to the individual and society of such political rights as\\n- freedom of speech, press, assembly, petition\\n- right to vote and run for public office\\n- explain how political rights are secured by constitutional government and by such means as the rule of law, checks and balances, an independent judiciary, and a vigilant citizenry\\n- evaluate contemporary issues that involve political rights, e.g., proportional voting, \\\"hate speech,\\\" access to classified information, changing the boundaries of congressional and state legislative districts\\n- Economic rights. Students should be able to evaluate, take, and defend positions on issues regarding economic rights.\",\n",
      "        \"Both the government and the citizens are responsible for the protection of the rights of individuals and for the promotion of the common good. It is a fundamental responsibility of the citizen to see that government serves the purposes for which it was created. In order to fulfill this role, individuals need to understand what citizenship means in American constitutional democracy.\\n- The meaning of citizenship in the United States. Students should be able to explain the meaning of citizenship in the United States.\\nTo achieve this standard, students should be able to\\n- explain the idea that citizenship\\n- is legally recognized membership in a self-governing community\\n- confers full membership in a self-governing community; no degrees of citizenship or legally recognized states of inferior citizenship are tolerated\\n- confers equal rights under the law\\n- is not dependent on inherited, involuntary groupings such as race, ethnicity, or ancestral religion\",\n",
      "        \"An understanding of the concept of limited government and its essential components helps citizens understand the necessity of maintaining those conditions that prevent a government from exceeding its powers.\\n- Limited and unlimited governments.Students should be able to explain the essential characteristics of limited and unlimited governments.\\nTo achieve this standard students should be able to\\n- describe the essential characteristics of limited and unlimited governments\\n- limited governments have established and respected restraints on their power, e.g.,\\n- constitutional government--governments characterized by legal limits on political power\\n- unlimited governments are those in which there are no regularized and effective means of restraining their power, i.e.,\\n- authoritarian systems--governments in which political power is concentrated in one person or a small group, and individuals and groups are subordinated to that power\",\n",
      "        \"Whatever facilitates a general intercourse of sentiments, as good roads, domestic commerce, a free press, and particularly a circulation of newspapers through the entire body of people...is favorable to liberty. James Madison (1788)\\n- explain how Congress, the president, and state and local public officials use the media to communicate with the citizenry\\n- evaluate historical and contemporary political communication using such criteria as logical validity, factual accuracy, emotional appeal, distorted evidence, appeals to bias or prejudice, e.g.,\\n- speeches such as Lincoln's \\\"House Divided,\\\" Sojourner Truth's \\\"Ain't I a Woman?\\\", Chief Joseph's \\\"I Shall Fight No More Forever,\\\" Roosevelt's \\\"Four Freedoms,\\\" Martin Luther King Jr.'s \\\"I Have a Dream\\\"\\n- government wartime information programs, campaign advertisements\\n- political cartoons\\nTo achieve this standard, students should be able to\\n- describe the origins and development of the two party system in the United States\",\n",
      "        \"Americans form and join associations in great numbers. The broad range of religious, service, and civic groups forms a part of the rich network of associations that characterizes American society. The powerful role of these kinds of groups, as well as interest groups, labor unions, and professional organizations, is an important factor in understanding American political life.\\nRecognition of the many forms of diversity in American society-- ethnicity, race, religion, class, language, gender, or national origin--embraced in a constitutional system, is a prerequisite to making judgments about the benefits diversity offers and the challenges it poses.\\n- Distinctive characteristics of American society.Students should be able to explain how the following characteristics tend to distinguish American society from most other societies.\\nTo achieve this standard, students should be able to\\n- explain important factors that have helped shape American society, such as\",\n",
      "        \"Separate educational facilities are inherently unequal....[We] hold that the plaintiffs... [are] deprived of the equal protection of the laws guaranteed by the Fourteenth Amendment. Earl Warren (1954)\\n- explain how the individual's rights to life, liberty, and property are protected by the trial and appellate levels of the judicial process and by the principal varieties of law, e.g., constitutional, criminal, and civil law\\n- evaluate the argument that Americans depend too much on the legal system to solve social, economic, and political problems rather than using other means, such as private negotiations, mediation, and participation in the political process\\nTo achieve this standard, students should be able to\\n- explain the importance of an independent judiciary in a constitutional democracy\",\n",
      "        \"C. What is American political culture?\\nIn contrast to most other nations, the identity of an American citizen is defined by shared political values and principles rather than by ethnicity, race, religion, class, language, gender, or national origin. These shared values and principles have helped to promote cohesion in the daily life of Americans and in times of crisis have enabled them to find common ground with those who differ from them.\\nAlthough political conflicts sometimes have erupted in violence, such as labor disputes, race riots, and draft riots, citizens should understand that political conflict in the United States has usually been less divisive and violent than in many other nations. This is in part because American political conflict, with the major exception of the Civil War, has generally taken place within a constitutional framework which allows for protest politics and promotes the peaceful resolution of differences.\",\n",
      "        \"- explain the effects on other nations of significant American political developments, e.g., immigration policies; opposition to communism; promotion of human rights; foreign trade; economic, military, and humanitarian aid\\n- explain why allegiance to some nation-states is being challenged by competing loyalties, such as those to ethnic, religious, tribal, or linguistic groups\\n- explain why transnational loyalties sometimes supersede loyalty to a nation-state, e.g., Communist International, Islam, Christianity\\n- Economic, technological, and cultural developments. Students should be able to evaluate, take, and defend positions about the effects of significant economic, technological, and cultural developments in the United States and other nations.\\nTo achieve this standard, students should be able to\",\n",
      "        \"To achieve this standard, students should be able to\\n- explain the meaning of economic rights as distinguished from personal and political rights, e.g., the right to use money to buy personal property as distinct from the right to donate money for political campaigns\\n- identify major documentary statements of economic rights--the Declaration of Independence, the United States Constitution including the Bill of Rights, state constitutions and bills of rights, legislation, court decisions, and the common law\\n- explain the importance to the individual and society of such economic rights as the right to\\n- acquire, use, transfer, and dispose of property\\n- choose one's work, change employment\\n- join labor unions and professional associations\\n- establish and operate a business\\n- copyright and patent\\n- enter into lawful contracts\",\n",
      "        \"At the international level there is no political organization with power comparable to that of the nation-state to enforce agreements. As a result, when interests among nation-states clash, wars may erupt.\\nThere are, however, international governmental organizations that provide avenues through which nation-states interact and attempt to manage conflicts peacefully. In addition, numerous nongovernmental organizations play increasingly important roles.\\nTo make judgments about the role of the United States in the world today and what course American foreign policy should take, citizens need to understand some of the major elements of international relations and how world affairs affect them.\\n- Nation-states. Students should be able to explain how the world is organized politically. To achieve this standard, students should be able to\\n- explain the division of the world into nation-states that claim sovereignty over a defined territory and jurisdiction over everyone within it\"\n",
      "      ],\n",
      "      \"title\": \"standards - civiced.org\",\n",
      "      \"url\": \"https://www.civiced.org/standards?page=912erica\"\n",
      "    },\n",
      "    {\n",
      "      \"description\": \"You are now being redirected to ERIC.ED.GOV\",\n",
      "      \"snippets\": [],\n",
      "      \"title\": \"Family's Impact on Individual's Political Attitude and ...\",\n",
      "      \"url\": \"https://files.eric.ed.gov/fulltext/EJ1254813.pdf\"\n",
      "    },\n",
      "    {\n",
      "      \"description\": \"People find happiness in family bonds when political realities are threatened.\",\n",
      "      \"snippets\": [\n",
      "        \"As part of a functioning society, our personal well-being is not just dependent on our own thoughts and actions, but also on the actions of those in our social collective \\u2014 our close friends and family, but also, importantly, people with whom we don't necessarily interact on a daily basis: acquaintances, neighbours, and other citizens in our communities. Even though we may not directly interact with these people, we still depend on them to make smart choices and behave in a way that makes us feel safe in the world around us. For example, one person on their own does not have the power to elect their preferred candidate into office. Rather, we depend on others supporting those candidates and their policies to make our political vision a reality.\",\n",
      "        \"For partisan conservatives in the U.S., more negative tweets about President Trump by other citizens should represent a lack of collective political consensus with their own beliefs. For partisan liberals, less negative tweets about Trump from fellow citizens should represent a lack of collective political consensus with their beliefs.\",\n",
      "        \"For partisan liberals, less negative tweets about Trump from fellow citizens should represent a lack of collective political consensus with their beliefs. Consistent with these hypotheses, across both studies, when the vulnerability of relying on others was made salient, a lack of political consensus in fellow citizens' tweets motivated people to affirm their happiness with their relationships with their families.\",\n",
      "        \"News of a leader breaking their own rules or flip-flopping on a public promise not only make us feel less trusting of our political world, but research has shown, these actions also motivate us to draw closer and seek reassurances within our families. As part of a functioning society, our personal well-being is not just dependent on our own thoughts and actions, but also on the actions of those in our social collective \\u2014 our close friends and family, but also, importantly, people with whom we don't necessarily interact on a daily basis: acquaintances, neighbours, and other citizens in our communities.\"\n",
      "      ],\n",
      "      \"title\": \"How Politics Can Affect the Way You Feel About Your Family | ...\",\n",
      "      \"url\": \"https://www.psychologytoday.com/us/blog/love-chaos/202107/how-politics-can-affect-the-way-you-feel-about-your-family\"\n",
      "    },\n",
      "    {\n",
      "      \"description\": \"The legislative and executive power used by government to protect property is nothing except the natural power of each man resigned into the hands of the community\\u2026and it is justified merely because it is a better way of protecting natural right than the self-help to which each man is naturally entitled. However, with David Hume a contrary voice is heard. Sabine interprets Hume's skepticism by noting \\u00b7 The political ...\",\n",
      "      \"snippets\": [\n",
      "        \"- David Hume, Of the Original Contract\\n- Philip Pettit, Republicanism: A Theory of Freedom and Government. Oxford: Clarendon Press, 1997 (in which he argues, against a theory of the consent of the governed, in favour of a theory of the lack of explicit rebellion; following a Popperian view on falsifiability, Pettit considers that as consent of the governed is always implicitly supposed, thus trapping the social contract in a vicious circle, it should be replaced by the lack of explicit rebellion.\\n- Jean-Jacques Rousseau, The Social Contract, or Principles of Political Right (1762)\",\n",
      "        \"Consent of the governed\\nIn political philosophy, the phrase consent of the governed refers to the idea that a government's legitimacy and moral right to use state power is justified and lawful only when consented to by the people or society over which that political power is exercised. This theory of consent is historically contrasted to the divine right of kings and had often been invoked against the legitimacy of colonialism. Article 21 of the United Nations' 1948 Universal Declaration of Human Rights states that \\\"The will of the people shall be the basis of the authority of government\\\".\\nHistory[edit]\",\n",
      "        \"- ^ \\\"The Bill of Rights: A brief history\\\". American Civil Liberties Union. Archived from the original on August 29, 2022. Retrieved August 29, 2022.\\nThe \\\"consent of the governed\\\" meant propertied white men only.\\n- ^ \\\"Voting Rights Throughout United States History\\\". National Geographic. Retrieved November 30, 2023.\\nthe country adopted the United States Constitution in 1787. Article 1 of the Constitution empowers state legislatures to oversee federal elections. Suffrage, or the right to vote, was granted exclusively to white, land-owning men.\\n- ^ Cassinelli, C. W. (1959). \\\"The 'Consent' of the Governed\\\". Political Research Quarterly. 12 (2): 391\\u2013409. doi:10.1177/106591295901200202. S2CID 154712817.\\n- ^ Pitkin, Hanna (1966). \\\"Obligation and Consent\\u2014II\\\". The American Political Science Review. 60 (1): 39\\u201352. doi:10.2307/1953805. JSTOR 1953805. S2CID 251093199.\",\n",
      "        \"The political world over, absolute governments which do not even do lip-service to the fiction of consent are more common than free governments, and their subjects rarely question their right except when tyranny becomes too oppressive.[2]: 603\\nSabine revived the concept from its status as a political myth after Hume, by referring to Thomas Hill Green. Green wrote that government required \\\"will not force\\\" for administration. As put by Sabine,[2]: 731\\nEven the most powerful and the most despotic government cannot hold a society together by sheer force; to that extent there was a limited truth to the old belief that governments are produced by consent.\\nAccording to James Feibleman, compliance with law is evidence for consent of the governed:\",\n",
      "        \"The conditions for the existence of a political society have less to do with force and fear of coercion than with the members' mutual recognition of a good common to themselves and others, although it may not be consciously expressed as such. Thus for the conditions for any civil combination to disappear through resistance to a despotic government or disobedience to law would require such a disastrous upheaval as to be unlikely in all but the most extreme circumstances in which we might agree with Green that the price would be too high to pay, yet sufficiently rare to allow us to acknowledge that there would ordinarily be a moral duty to act to overthrow any state that did not pursue the common good.[5]\\nIn the United States of America[edit]\\n\\\"Consent of the governed\\\" is a phrase found in the 1776 United States Declaration of Independence, written by Thomas Jefferson.\",\n",
      "        \"In his 1937 book A History of Political Theory, George Sabine collected the views of many political theorists on consent of the governed. He notes the idea mentioned in 1433 by Nicholas of Cusa in De Concordantia Catholica. In 1579 an influential Huguenot tract Vindiciae contra tyrannos was published which Sabine paraphrases: \\\"The people lay down the conditions which the king is bound to fulfill. Hence they are bound to obedience only conditionally, namely, upon receiving the protection of just and lawful government\\u2026the power of the ruler is delegated by the people and continues only with their consent.\\\"[2]: 381 In England, the Levellers also held to this principle of government.\\nJohn Milton wrote\",\n",
      "        \"History[edit]\\nPerhaps the earliest utterance of \\\"consent of the governed\\\" appears in the writings of Scottish Catholic priest and Franciscan friar Duns Scotus, who proposed this in his work Ordinatio in the 1290s. Scotus's lengthy writing in theology have largely overshadowed this notable contribution that he made to early political theory. It is believed these writings influenced the Declaration of Arbroath in 1320.[1]\",\n",
      "        \"However, the \\\"consent of the governed\\\", when the Constitution was ratified, was flawed in that it was limited to white men of property.[9][10]\\nTypes of consent[edit]\\nUnanimous consent[edit]\\nA key question is whether the unanimous consent of the governed is required; if so, this would imply the right of secession for those who do not want to be governed by a particular collective. All democratic governments today allow decisions to be made even over the dissent of a minority of voters which, in some theorists' view, calls into question whether said governments can rightfully claim, in all circumstances, to act with the consent of the governed.[11]\\nHypothetical consent[edit]\",\n",
      "        \"Engineered consent[edit]\\nAccording to the propagandist Edward Bernays when discussing public relations techniques that were described in his essay and book The Engineering of Consent (1955), the public may be manipulated by its subconscious desires to render votes to a political candidate. Consent thus obtained undermines the legitimacy of government. Bernays claimed that \\\"the basic principle involved is simple but important: If the opinions of the public are to control the government, these opinions must not be controlled by the government.\\\"[14]\\nEdward S. Herman and Noam Chomsky in their book, Manufacturing Consent (1988), advanced a propaganda model for the news media in the United States[15] in which coverage of current events was skewed by corporations and the state in order to manufacture the consent of the governed.\\nSee also[edit]\\n- Bay'ah\\n- Consent of the Networked (2012)\\n- Mandate (politics)\\n- Popular sovereignty\\n- Public policy\\n- Rule of law\\n- Self determination\",\n",
      "        \"For a legal system to be consistent, it must be applicable; and for it to be complete, it must be compatible with the fundamental convictions of a majority of citizens. To say that an established legal order exists among them means that overtly they have consented to be governed in this fashion. Such public beliefs are embodied in institutions, first and foremost in the institution of the state, with its administration of law.[4]\\nConsent of the governed, within the social liberalism of T. H. Green, was also described by Paul Harris:\"\n",
      "      ],\n",
      "      \"title\": \"Consent of the governed - Wikipedia\",\n",
      "      \"url\": \"https://en.wikipedia.org/wiki/Consent_of_the_governed\"\n",
      "    },\n",
      "    {\n",
      "      \"description\": \"Political philosopher Jason Brennan explains why real-world government power does not really have the consent of the governed. True consent happens only when \\\"no\\\" means \\\"no.\\\" But to the government, \\\"no\\\" almost always effectively means \\\"yes.\\\" That doesn't mean that government is necessarily ...\",\n",
      "      \"snippets\": [\n",
      "        \"A government that rules without consent isn\\u2019t necessarily a bad government. In the terminology of the current front-runner for the Republican nomination for our most powerful political office, it might even turn out to be super-classy and hugely terrific. But it should be viewed with greater suspicion and kept on a tighter leash than a government that genuinely derives its just powers from the consent of the governed.\",\n",
      "        \"The Declaration of Independence famously states that governments derive \\u201ctheir just powers from the consent of the governed.\\u201d But, sadly, this is almost never the case in the real world. If it is indeed true, as Abraham Lincoln famously put it, that \\u201cno man is good enough to govern another man without that other\\u2019s consent,\\u201d that principle has more radical implications than Lincoln probably intended. Few if any of those who wield government power measure up to that lofty standard.\\nI. Why Most Exercises of Government Power are Nonconsensual.\\nGeorgetown political philosopher Jason Brennan has an excellent post summarizing the reasons why the authority of actually existing democratic governments is not based on any meaningful consent. In a genuinely consensual political regime, \\u201cno\\u201d means \\u201cno.\\u201d But actual governments generally treat \\u201cno\\u201d as just another form of \\u201cyes\\u201d:\"\n",
      "      ],\n",
      "      \"title\": \"Why real-world governments don\\u2019t have the consent of the governed ...\",\n",
      "      \"url\": \"https://www.washingtonpost.com/news/volokh-conspiracy/wp/2016/01/27/why-real-world-governments-dont-have-the-consent-of-the-governed-and-why-it-matters/\"\n",
      "    },\n",
      "    {\n",
      "      \"description\": \"The theological and moral perspectives ... to family structure, gender roles, abortion, anti-gay rhetoric, and the value of human life.\\\" State governments can control mass media to \\\"inform, misinform, or misinform the press and thus the public '', a strategy referred to as propaganda. The ability to control agents of socialization, such as the media, brings control to the state to serve a political, economic, or personal agenda that benefits the state. Community mobilization ...\",\n",
      "      \"snippets\": [\n",
      "        \"Community mobilization brings significant experiences of political socialization events that could influence one's political attitudes with a collective community goal.[17] An example is how Prop 187 was specifically targeting illegal immigrants in LA County within the state of California. Given the severity of the policy targeting a specific community, this created a mass mobilization of the Latino and immigrant community, creating a voting bloc that prevented the initiative of Prop 187.[18] Harvey Milk was a significant political mobilizing the queer community during the 1978 race for California governor with increasing support for Prop 6, a law that would mandate firing any queer teacher or employee in any California public school. As this threatened the queer community and increased immigration of gay, lesbian, and transgender individuals, specifically in the San Francisco area, Milk was able to mobilize the queer community to gain enough momentum to vote against Prop 6\",\n",
      "        \"Religion[edit]\\nReligious beliefs and practices influence political opinions, priorities, and political participation. The theological and moral perspectives offered by religious institutions shape judgment regarding political attitudes and, ultimately, translate to direct influence on political matters such as \\\"the redistribution of wealth, equality, tolerance for deviance, individual freedom, the severity of criminal punishment, policies relating to family structure, gender roles, abortion, anti-gay rhetoric, and the value of human life.\\\"[15]\\nThe State[edit]\\nState governments can control mass media to \\\"inform, misinform, or misinform the press and thus the public '', a strategy referred to as propaganda. The ability to control agents of socialization, such as the media, brings control to the state to serve a political, economic, or personal agenda that benefits the state. [16]\\nCommunity[edit]\",\n",
      "        \"[edit]\\nAgents of socialization, sometimes called institutions, work together to influence and shape people's political norms and values. In the case of political socialization, the most significant agents include, but are not limited to, families, media, education, and peers. Other agents include religion, the state, and community. These agents shape your understanding of politics by exposing you to political ideas, values, and behaviors.\\nFamily[edit]\",\n",
      "        \"Political socialization is the process by which individuals internalize and develop their political values, ideas, attitudes, and perceptions via the agents of socialization. Agents such as family, education, media, and peers influence the most in establishing varying political lenses that frame one's perception of political values, ideas, and attitudes. These perceptions, in turn, shape and define individuals' definitions of who they are and how they should behave in the political and economic institutions in which they live. This learning process shapes perceptions that influence which norms, behaviors, values, opinions, morals, and priorities will ultimately shape their political ideology: it is a \\\"study of the developmental processes by which people of all ages and adolescents acquire political cognition, attitudes, and behaviors.\\\" [1] These agents expose individuals Through varying degrees of influence, inducing them into the political culture and their orientations towards\",\n",
      "        \"to gain enough momentum to vote against Prop 6 successfully.[19] This could have been a pivotal introduction to political participation for those in these areas, motivating many to continue voting in future elections.[17] In many cases, the experience of community mobilization is the first introduction to political policies and political participation, starting their political journey connected with their home.\",\n",
      "        \"Over the decades, literature has heavily emphasizes that the agent of the family is the most influential, with literature suggesting that family and the transmission of attitudes from parent to child are the most prominent agents of socialization.[2] Literature examines how aspects of family structures and dynamics change the varying influence of the offspring's values as a function of the distribution of their parent's attitudes. Families perpetuate values that support political authorities and can heavily contribute to children's initial political ideological views, or party affiliations.[1] Literature suggest that the transmission of intergenerational political attitudes shows a strong lineage concerning their parents and siblings.[3] Families have an effect on \\\"political knowledge, identification, efficacy, and participation\\\", depending on variables such as \\\"family demographics, life cycle, parenting style, parental level of political cynicism and frequency of political\",\n",
      "        \"Geographical location also plays a role in one's political media socialization. For example, news outlets on the East Coast tend to cover international affairs in Europe and the Middle East the most, while West Coast news outlets are more likely to cover Asian affairs; this demonstrates that community region affects patterns in political socialization. The region is also significant for specific political attitudes. Living near the Pakistan-India border, an individual will likely have solid political attitudes toward the Pakistan-India tension.[19] Given the socialization of their parents, cousins, grandparents, peers, and education, all have a significant role in teaching their youth about the relationship one has with the other state. Suppose one immigrated from Cuba to the United States. In that case, they will be the political socialization inclination to obtain conservative attitudes in the United States because of the regional movements from a leftist government in Cuba.\",\n",
      "        \"Political socialization begins in childhood. Some research suggests that family and school teachers are the most influential factors in socializing children, but recent research designs have more accurately estimated the high influence of the media in the process of political socialization. On average, both young children and teenagers in the United States spend more time a week consuming television and digital media than they spend in school. Young children consume an average of thirty-one hours a week, while teenagers consume forty-eight hours of media a week. High school students attribute the information that forms their opinions and attitudes about race, war, economics, and patriotism to mass media much more than their friends, family, or teachers. Research has also shown that children who consume more media than others show greater support for and understanding of American values, such as free speech. This may be because eighty percent of the media content children consume is\",\n",
      "        \"Life Stages of Political Socialization[edit]\\nChildhood[edit]\\nPolitical socialization begins in childhood. Research suggest that family and educational environment are the most influencial factors in socializing children, however recent literature suggest that increasing influence is coming from mass media such as digital and social media. On average, both young children and teenagers in the United States spend more time a week consuming television and digital media than they spend in school.[21] Young children consume an average of thirty-one hours a week, while teenagers consume forty-eight hours of media a week. Given that childhood is when a human is the most impressionable the influential of agents of socialization is significant as children's brains are \\\"prime for learning\\\", thus more likely to take messages of political attitudes of the world at face value.[22]\\nAdolescence[edit]\"\n",
      "      ],\n",
      "      \"title\": \"Political socialization - Wikipedia\",\n",
      "      \"url\": \"https://en.wikipedia.org/wiki/Political_socialization\"\n",
      "    },\n",
      "    {\n",
      "      \"description\": \"Where do our political attitudes originate? Although early research attributed the formation of such beliefs to parent and peer socialization, genetically sensitive designs later clarified the substantial role of genes in the development of sociopolitical ...\",\n",
      "      \"snippets\": [\n",
      "        \"Where do our political attitudes originate? Although early research attributed the formation of such beliefs to parent and peer socialization, genetically sensitive designs later clarified the substantial role of genes in the development of sociopolitical attitudes. However, it has remained unclear whether parental influence on offspring attitudes persists beyond adolescence. In a unique sample of 394 adoptive and biological families with offspring more than 30 years old, biometric modeling revealed significant evidence for genetic and nongenetic transmission from both parents for the majority of seven political-attitude phenotypes.\",\n",
      "        \"The difficulty in trying to infer parent effects from twin or even twin-family designs is that the inference is necessarily indirect, occurring when observed twin similarity cannot be accounted for entirely by genetic factors. Adoption studies provide a direct way of assessing parental environmental influences, because in the absence of selective placement, resemblance between parents and adopted offspring can be due only to environmental mechanisms (McGue et al., 2007).\",\n",
      "        \"Adoption studies provide a direct way of assessing parental environmental influences, because in the absence of selective placement, resemblance between parents and adopted offspring can be due only to environmental mechanisms (McGue et al., 2007). The few adoption studies that exist contrast with twin studies in providing tantalizing hints at the potential influence of the shared family environment.\",\n",
      "        \"Supplemental material, sj-pdf-1-pss-10.1177_09567976211021844 for Parent Contributions to the Development of Political Attitudes in Adoptive and Biological Families by Emily A. Willoughby, Alexandros Giannelis, Steven Ludeke, Robert Klemmensen, Asbj\\u00f8rn S. N\\u00f8rgaard, William G. Iacono, James J. Lee and Matt McGue in Psychological Science \\u00b7 Where do our political attitudes originate?\"\n",
      "      ],\n",
      "      \"title\": \"Parent Contributions to the Development of Political Attitudes ...\",\n",
      "      \"url\": \"https://www.ncbi.nlm.nih.gov/pmc/articles/PMC8907492/\"\n",
      "    },\n",
      "    {\n",
      "      \"description\": \"The Netherlands is a parliamentary democracy with various political parties. Under the Political Parties (Grants) Act, national political parties can receive government grants to subsidise their activities.\",\n",
      "      \"snippets\": [\n",
      "        \"The purpose of political parties\\nThe Netherlands is a parliamentary democracy with various political parties. Under the Political Parties (Grants) Act, national political parties can receive government grants to subsidise their activities.\\nPolitical parties in a parliamentary democracy\\nIn a parliamentary democracy, citizens elect their representatives. In the Netherlands this happens every 4 years. The candidates are members of political parties. Citizens vote for the party of their choice and, in this way, influence government policy.\\nRole of political parties\\nA political party brings together people with the same political ideas. By taking part in an election, parties hope to get as many of their members as possible into a representative body, like parliament or a municipal council. At the same time they try to hold as many posts as possible in the government, or in the municipal or provincial executive.\"\n",
      "      ],\n",
      "      \"title\": \"The purpose of political parties | Democracy | Government.nl\",\n",
      "      \"url\": \"https://www.government.nl/topics/democracy/the-purpose-of-political-parties\"\n",
      "    }\n",
      "  ],\n",
      "  \"latency\": 0.971804141998291\n",
      "}\n"
     ]
    }
   ],
   "source": [
    "print(json.dumps(first_query_sr_you, indent=2))"
   ]
  },
  {
   "cell_type": "code",
   "execution_count": 120,
   "id": "643b0708-064b-43bb-b64c-33174e1e6ed6",
   "metadata": {},
   "outputs": [
    {
     "name": "stdout",
     "output_type": "stream",
     "text": [
      "[{'title': 'Family Politics | Lapham’s Quarterly', 'snippet': 'It has been universally remarked that in our time the several members of a family stand upon an entirely new footing toward each other, that the distance which formerly separated a father from his son'}, {'title': 'Family Politics | Lapham’s Quarterly', 'snippet': 'Thus the parent has not only a natural right, but he acquires a political right to command them: he is the author and the support of his family, but he is also its constituted ruler. In democracies, where the government picks out every individual singly from the mass to make him subservient to the general laws of the community, no such intermediate person is required: a father is there, in the eye of the law, only a member of the community, older and richer than his sons.'}, {'title': 'Family Politics | Lapham’s Quarterly', 'snippet': 'Democracy loosens social ties, but it draws the ties of nature more tight; it brings kindred more closely together, while it places the various members of the community more widely apart. ... From Democracy in America. At the age of twenty-five in 1831, Tocqueville boarded a schooner with his friend Gustave de Beaumont for a government-sanctioned trip to examine the American penal system.'}, {'title': 'Family Politics | Lapham’s Quarterly', 'snippet': 'Among aristocratic nations, social institutions recognize, in truth, no one in the family but the father; children are received by society at his hands; society governs him, he governs them. Thus the parent has not only a natural right, but he acquires a political right to command them: he is the author and the support of his family, but he is also its constituted ruler.'}, {'title': 'Family Politics | Lapham’s Quarterly', 'snippet': 'It may perhaps not be without utility to show how these changes which take place in family relations, are closely connected with the social and political revolution which is approaching its consummation under our own observation. To be a successful father… there’s one absolute rule: when you have a kid, don’t look at it for the first two years. —Ernest Hemingway, 1954 · There are certain great social principles, which a people either introduces everywhere, or tolerates nowhere. In countries which are aristocratically constituted with all the gradations of rank, the government never makes a direct appeal to the mass of the governed: as men are united together, it is enough to lead the foremost—the rest will follow.'}, {'title': 'Family as a model for the state - Wikipedia', 'snippet': 'The family as a model for the organization of the state is a theory of political philosophy. It explains the structure of certain kinds of state in terms of the structure of the family (as a model or as a claim about the historical growth of the state), or it attempts to justify certain types ...'}, {'title': 'Family as a model for the state - Wikipedia', 'snippet': 'Aristotle often describes personal and domestic relationships in terms of different forms of government. He gives examples such as men and their domestic animals, wives, slaves, and children. He says, for example: \"the government of a household is a monarchy, since every house is governed by a single ruler.\"(2)/ \"The rule of a household is a monarchy, for every house is under one head\"[2] Later in the same text, he says that husbands exercise a republican government over their wives and monarchical government over their children, and that they exhibit political office over slaves and royal office over the family in general. (Politics Bk I, §v, 1–2; 1259a 35–1259b 1)\\nHowever, while he is prepared to use political terms as metaphors for domestic relationships, he is equally clear that such metaphors are limited:'}, {'title': 'Family as a model for the state - Wikipedia', 'snippet': 'Family as a model for the state\\nThis article possibly contains original research. (January 2023)\\nThe family as a model for the organization of the state is a theory of political philosophy. It explains the structure of certain kinds of state in terms of the structure of the family (as a model or as a claim about the historical growth of the state), or it attempts to justify certain types of state by appeal to the structure of the family. The first known writer to use it (certainly in any clear and developed way) was Aristotle, who argued that the natural progression of human beings was from the family via small communities to the polis.\\nMany writers from ancient times to the present have seen parallels between the family and the forms of the state. In particular, monarchists have argued that the state mirrors the patriarchal family, with the people obeying the king as children obey their father.\\nAncient Greek thought[edit]'}, {'title': 'standards - civiced.org', 'snippet': 'To understand the impact of the national government on their daily lives and the lives of their communities, citizens need to understand how it functions. To deliberate with other citizens about political action and to influence governmental actions that affect their lives, citizens need to ...'}, {'title': 'standards - civiced.org', 'snippet': '- evaluate the usefulness of other forms of political participation in influencing public policy, e.g., attending political and governmental meetings, filing a legal challenge, demonstrating, contacting public officials, working in campaigns, contributing money to political parties or causes, writing letters, boycotting, community organizing, petitioning, picketing, expressing opinions on talk shows, running for political office\\n- Political leadership and careers in public service. Students should be able to evaluate, take, and defend positions about the functions of leadership in an American constitutional democracy.\\nTo achieve this standard, students should be able to\\n- explain the functions of political leadership and why leadership is a vital necessity in American constitutional democracy\\n- describe various ways one can exercise leadership in public affairs\\n- describe opportunities for citizens to engage in careers in public service'}, {'title': 'standards - civiced.org', 'snippet': 'To answer the question \"Why should I participate in the political system?\" the citizen needs to examine and evaluate the relationships between the attainment of individual and public goals on one hand and participation in the life of the political community on the other.\\nIf American constitutional democracy is to endure, its citizens must recognize that it is not \"a machine that would go of itself.\" They also must be aware of the difficulty of establishing free institutions, as evidenced by the experience of the Founders as well as events in the contemporary world. American constitutional democracy requires the continuing and dedicated participation of an attentive, knowledgeable, and reflective citizenry.\\n- The relationship between politics and the attainment of individual and public goals. Students should be able to evaluate, take and defend positions on the relationship between politics and the attainment of individual and public goals.'}, {'title': 'standards - civiced.org', 'snippet': \"An understanding of the place of law in the American constitutional system enhances citizens' capacity to appreciate the importance of law in protecting individual rights and promoting the common good. This understanding provides a basis for deciding whether to support new laws and changes in existing law.\\n- The place of law in American society.Students should be able to evaluate, take, and defend positions on the role and importance of law in the American political system.\\nTo achieve this standard, students should be able to\\n- explain why the rule of law has a central place in American society, e.g., it\\n- establishes limits on both those who govern and the governed\\n- makes possible a system of ordered liberty that protects the basic rights of citizens\\n- promotes the common good.\\n- describe historical and contemporary events and practices that illustrate the central place of the rule of law, e.g.,\"}, {'title': 'standards - civiced.org', 'snippet': 'To achieve this standard, students should be able to\\n- explain the relationship of individual participation in the political process to the realization of the fundamental values of American constitutional democracy\\n- explain the relationship between participation in the political process and the attainment of individual and collective goals\\n- The difference between political and social participation. Students should be able to explain the difference between political and social participation.\\nTo achieve this standard, students should be able to\\n- explain what distinguishes participation in government and political life from nonpolitical participation in civil society and private life, e.g., participating in a campaign to change laws regulating nursing homes as opposed to volunteering to work in a nursing home\\n- evaluate the importance of both political and social participation to American constitutional democracy'}, {'title': 'standards - civiced.org', 'snippet': 'To achieve this standard, students should be able to\\n- explain the relationship of individual\\nparticipation in the political process to the realization of the fundamental values of American constitutional democracy\\n- explain the relationship between\\nparticipation in the political process and the attainment of individual and collective goals\\n- explain the relationship of individual participation in the political process to the realization of the fundamental values of American constitutional democracy\\n- The difference between political and social participation. Students should be able to explain the difference between political and social\\nparticipation.\\nTo achieve this standard, students should be able to\\n- explain what distinguishes participation\\nin government and political life from nonpolitical participation in civil society and private life, e.g., participating in a campaign to change laws regulating nursing homes as opposed to volunteering to work in a nursing home'}, {'title': 'standards - civiced.org', 'snippet': '- evaluate the importance of both political\\nand social participation to American constitutional democracy\\n- explain what distinguishes participation in government and political life from nonpolitical participation in civil society and private life, e.g., participating in a campaign to change laws regulating nursing homes as opposed to volunteering to work in a nursing home\\n- Forms of political participation. Students should be able to evaluate, take, and defend positions about the means that citizens should use to monitor and influence the formation and implementation of public policy.\\nTo achieve this standard, students should be able to\\n- describe the many ways citizens can\\nparticipate in the political process at local, state, and national levels\\n- describe historical and current examples of'}, {'title': 'standards - civiced.org', 'snippet': 'To understand their nation, citizens should appreciate the nature and importance of their political culture, which provides a foundation for the stability of their system, and its capacity to respond to the needs and interests of the people through peaceful change.\\n- American national identity and political culture.Students should be able to explain the importance of shared political and civic beliefs and values to the maintenance of constitutional democracy in an increasingly diverse American society.\\nTo achieve this standard, students should be able to\\n- explain that shared political and civic beliefs and values define an American citizen rather than ethnicity, race, religion, class, language, gender, or national origin\\n- explain the shared ideas and values of American political culture as set forth in\\n- basic documents such as the Declaration of Independence, the United States Constitution and Bill of Rights'}, {'title': 'standards - civiced.org', 'snippet': '- describe historical and current examples of\\ncitizen movements seeking to expand liberty, to insure the equal rights of all citizens, and/or to realize other values fundamental to American constitutional democracy, such as the suffrage and civil rights movements\\n- explain what civil disobedience is, how it\\ndiffers from other forms of protest, what its consequences might be, and evaluate the circumstances under which it might be justified\\n- evaluate the importance of voting as a form\\nof political participation\\n- evaluate the usefulness of other forms of\\npolitical participation in influencing public policy, e.g., attending political and governmental meetings, filing a legal challenge, demonstrating, contacting public officials, working in campaigns, contributing money to political parties or causes, writing letters, boycotting, community organizing, petitioning, picketing, expressing opinions on talk shows, running for political office'}, {'title': 'standards - civiced.org', 'snippet': '- people have a right to create a government to protect their rights\\n- governments are established for the limited purposes of securing individual rights\\n- authority is derived from consent of the governed\\n- people have the right to alter or abolish government when it fails to fulfill its purposes\\nTo achieve this standard, students should be able to\\n- define a \"republic\" as a state in which the citizenry as a whole is considered sovereign but which is governed by elected representatives rather than directly by the people, as in direct democracy\\n- explain major ideas of republicanism, i.e.,\\n- government of a republic seeks the public or common good rather than the good of a particular group or class of society\\n- \"civic virtue\" of citizens is essential; civic virtue means that citizens put the public or common good above their private interests'}, {'title': 'standards - civiced.org', 'snippet': 'If citizens want their voices to be heard, they must become active participants in the political process. Although elections, campaigns, and voting are at the center of democratic institutions, citizens should be aware that beyond electoral politics there is a wide range of participatory opportunities available to them. These possibilities include attending political meetings, contacting public officials, joining advocacy groups and political parties, and taking part in demonstrations.\\nPolitical leadership and careers in public service are vitally important in a democratic society. Citizens need to understand the contributions of those in public service as well as the practical and ethical dilemmas political leaders face.'}, {'title': 'standards - civiced.org', 'snippet': \"- Relationships among personal, political, and economic rights. Students should be able to evaluate, take, and defend positions on the relationships among personal, political, and economic rights.\\nTo achieve this standard, students should be able to\\n- explain the relationship between the economic right to acquire, use, transfer, and dispose of property to political rights\\n- explain the relationship of economic rights such as the right to choose one's work, to change employment, and to join a labor union and other lawful associations to political rights\\n- explain and give examples of situations in which personal, political, or economic rights are in conflict\\n- evaluate the argument that poverty, unemployment, and urban decay serve to limit both political and economic rights\\n- evaluate the argument that personal, political, and economic rights reinforce each other\"}, {'title': 'standards - civiced.org', 'snippet': '- Forms of political participation. Students should be able to evaluate, take, and defend positions about the means that citizens should use to monitor and influence the formation and implementation of public policy.\\nTo achieve this standard, students should be able to\\n- describe the many ways citizens can participate in the political process at local, state, and national levels\\n- describe historical and current examples of citizen movements seeking to expand liberty, to insure the equal rights of all citizens, and/or to realize other values fundamental to American constitutional democracy, such as the suffrage and civil rights movements\\n- explain what civil disobedience is, how it differs from other forms of protest, what its consequences might be, and evaluate the circumstances under which it might be justified\\n- evaluate the importance of voting as a form of political participation'}, {'title': 'standards - civiced.org', 'snippet': '- describe the many ways citizens can participate in the political process at local, state, and national levels\\n- Political leadership and careers in public service. Students should be able to evaluate, take, and defend positions about the functions of leadership in an American constitutional democracy.\\nTo achieve this standard, students should be able to\\n- explain the functions of political leadership and why leadership is a vital necessity in American constitutional democracy\\n- describe various ways one can exercise\\nleadership in public affairs\\n- describe opportunities for citizens to engage in careers in public service\\n- describe the personal qualities necessary\\nfor political leadership\\n- explain and evaluate ethical dilemmas that\\nmight confront political leaders\\n- explain the functions of political leadership and why leadership is a vital necessity in American constitutional democracy'}, {'title': 'standards - civiced.org', 'snippet': \"Congress shall make no law respecting an establishment of religion, or prohibiting the free exercise thereof; or abridging the freedom of speech, or of the press, or the right of the people peaceably to assemble, and to petition the Government for a redress of grievances. First Amendment (1791)\\n- Political rights. Students should be able to evaluate, take, and defend positions on issues regarding political rights.\\nTo achieve this standard, students should be able to\\n- explain the meaning of political rights as distinguished from personal rights, e.g., the right of free speech for political discussion as distinct from the right of free speech for expression of one's personal tastes and interests, or the right to register to vote as distinct from the right to live where one chooses\"}, {'title': 'standards - civiced.org', 'snippet': '- identify different varieties of law, e.g., divine law, natural law, common law, statute law, international law\\nWherever Law ends, Tyranny begins. John Locke (1690)\\n- explain alternative ideas about the purposes and functions of law such as\\n- regulating relationships among people and between people and their government\\n- providing order, predictability, security, and established procedures for the management of conflict\\n- specifying the allocation of rights and responsibilities and of benefits and burdens\\n- providing the ultimate source of authority in a political community\\n- regulating social and economic relationships in civil society\\n- explain how the rule of law can be used to restrict the actions of private citizens and government officials alike in order to protect the rights of individuals and to promote the common good\\nTo achieve this standard, students should be able to'}, {'title': 'standards - civiced.org', 'snippet': '- explain how the purposes served by a government affect relationships between the individual and government and between government and society as a whole, e.g., the purpose of promoting a religious vision of what society should be like may require a government to restrict individual thought and actions and place strict controls on the whole of society\\nB. What are the essential characteristics of limited and unlimited government?\\nLimited government provides a basis for protecting individual rights and promoting the common good in contrast to unlimited government which endangers these values. Limited government is constitutional government. Unlimited governments include authoritarian and totalitarian systems.\\nThe rule of law is an essential component of limited government. The central notion of a rule of law is that society is governed according to widely known and accepted rules followed not only by the governed but also by those in authority.'}, {'title': 'standards - civiced.org', 'snippet': 'The rule of law operates within a framework provided by the United States Constitution. It establishes limits on both those who govern and the governed, making possible a system of ordered liberty which protects the basic rights of citizens and promotes the common good. This basic notion of the rule of law has been accompanied by the ideal of equal protection of the law, a central theme in the history of the United States.\\nLaw pervades American society. Americans look to the principal varieties of law--constitutional, civil, and criminal--for the protection of their rights to life, liberty, and property. It is often argued, however, that Americans are overly dependent on the legal system to manage disputes about social, economic, and political problems rather than using other means available to them such as private negotiations and participation in the political process.'}, {'title': 'standards - civiced.org', 'snippet': '- evaluate current criticisms of campaigns and proposals for their reform\\nTo achieve this standard, students should be able to\\n- identify and explain the historical role of various associations and groups active in American politics, e.g., political organizations, political action committees (PACs), interest groups, voluntary and civic associations, professional organizations, unions, religious groups\\n- describe, giving historical and contemporary examples, the role of associations and groups in performing functions otherwise performed by government, such as social welfare and education\\n- describe the contemporary roles of associations and groups in local, state, and national politics\\n- evaluate the degree to which associations and groups enhance citizen participation in American political life\\nTo achieve this standard, students should be able to\\n- describe a current issue of public policy at local, state, or national level'}, {'title': 'standards - civiced.org', 'snippet': '9-12 Content Standards\\nI. WHAT ARE CIVIC LIFE, POLITICS, AND GOVERNMENT?\\nA. What is civic life? What is politics? What is government? Why are government and politics necessary? What purposes should government serve?\\nCivic life is the public life of the citizen concerned with the affairs of the community and nation as contrasted with private or personal life, which is devoted to the pursuit of private and personal interests.\\nPolitics is a process by which a group of people, whose opinions or interests might be divergent, reach collective decisions that are generally regarded as binding on the group and enforced as common policy. Political life enables people to accomplish goals they could not realize as individuals. Politics necessarily arises whenever groups of people live together, since they must always reach collective decisions of one kind or another.'}, {'title': 'standards - civiced.org', 'snippet': \"American constitutional democracy cannot accomplish its purposes, however,unless its citizens are inclined to participate thoughtfully in public affairs. Traits of public character such as public spiritedness, civility, respect for law, critical mindedness, and a willingness to negotiate and compromise are indispensable for its vitality.\\nThese traits of private and public character also contribute to the political efficacy of the individual, the healthy functioning of the political system, and the individual's sense of dignity and worth.\\n- Dispositions that lead the citizen to be an independent member of society. Students should be able to evaluate, take, and defend positions on the importance to American constitutional democracy of dispositions that lead individuals to become independent members of society.\\nTo achieve this standard, students should be able to\"}, {'title': 'standards - civiced.org', 'snippet': '- other sources such as The Federalist and Anti-federalist writings, the Declaration of Sentiments of the Seneca Falls Convention of 1848, Abraham Lincoln\\'s \"Gettysburg Address,\" Woodrow Wilson\\'s \"Fourteen Points,\" Franklin Roosevelt\\'s \"Four Freedoms,\" Martin Luther King\\'s \"Letter from the Birmingham Jail,\" and many landmark decisions of the Supreme Court of the United States\\n- describe beliefs common to American political culture, such as the belief in equality of opportunity; mistrust of power, as well as high expectations of what elected officials and government should do; the need to admit to faults or shortcomings in their society; and the belief that they can individually and through collective effort alleviate social, economic, or political problems\\nTo achieve this standard, students should be able to\\n- describe political conflict in the United States both historically and at present, such as conflict about\\n- geographic or sectional interests\\n- slavery and indentured servitude'}, {'title': 'standards - civiced.org', 'snippet': 'American constitutional democracy is dynamic and sometimes disorderly. The political process is complex and does not always operate in a smooth and predictable manner. Individually and in groups, citizens attempt to influence those in power. In turn, those in power attempt to influence citizens. In this process, the public agenda--the most pressing issues of the day--is set, and public opinion regarding these issues is formed.\\nIf citizens do not understand the political process and how to participate in it effectively, they may feel overwhelmed and alienated. An understanding of the political process is a necessary prerequisite for effective and responsible participation in the making of public policy.\\n- The public agenda.Students should be able to evaluate, take, and defend positions about how the public agenda is set.\\nTo achieve this standard, students should be able to'}, {'title': 'standards - civiced.org', 'snippet': 'Few rights, if any, are considered absolute. Rights may reinforce or conflict with each other or with other values and interests and require reasonable limitations. Therefore, it is important for citizens to develop a framework that clarifies their ideas about rights and the relationships among rights and other values and interests. This framework provides a basis for making reasoned decisions about the proper scope and limits of rights.\\n- Personal rights. Students should be able to evaluate, take, and defend positions on issues regarding personal rights.\\nTo achieve this standard, students should be able to\\n- explain the meaning of personal rights as distinguished from political rights, e.g., the right to privacy or the right to freedom of conscience as distinguished from the political right to peaceably assemble and petition for a redress of grievances'}, {'title': 'standards - civiced.org', 'snippet': '- describe the impact on other nations of the American Revolution and of the values and principles expressed in the Declaration of Independence and the United States Constitution including the Bill of Rights\\n- describe the influence abroad of American ideas about rights and how the ideas of others about rights have influenced Americans\\n- Political developments.Students should be able to evaluate, take, anddefend positions about the effects of significant international political developments on the United States and other nations.\\nTo achieve this standard, students should be able to\\n- explain the effects on the United States of significant world political developments, e.g., the French, Russian, and Chinese Revolutions; rise of nationalism; World Wars I and II; decline of colonialism; terrorism; multiplication of nation-states and the proliferation of conflict within them; the emergence of regional organizations such as the European Union'}, {'title': 'standards - civiced.org', 'snippet': '- identify the major documentary statements of political rights--the Declaration of Independence, the Northwest Ordinance, the United States Constitution including the Bill of Rights, state constitutions and bills of rights, civil rights legislation, court decisions\\n- explain the importance to the individual and society of such political rights as\\n- freedom of speech, press, assembly, petition\\n- right to vote and run for public office\\n- explain how political rights are secured by constitutional government and by such means as the rule of law, checks and balances, an independent judiciary, and a vigilant citizenry\\n- evaluate contemporary issues that involve political rights, e.g., proportional voting, \"hate speech,\" access to classified information, changing the boundaries of congressional and state legislative districts\\n- Economic rights. Students should be able to evaluate, take, and defend positions on issues regarding economic rights.'}, {'title': 'standards - civiced.org', 'snippet': 'Both the government and the citizens are responsible for the protection of the rights of individuals and for the promotion of the common good. It is a fundamental responsibility of the citizen to see that government serves the purposes for which it was created. In order to fulfill this role, individuals need to understand what citizenship means in American constitutional democracy.\\n- The meaning of citizenship in the United States. Students should be able to explain the meaning of citizenship in the United States.\\nTo achieve this standard, students should be able to\\n- explain the idea that citizenship\\n- is legally recognized membership in a self-governing community\\n- confers full membership in a self-governing community; no degrees of citizenship or legally recognized states of inferior citizenship are tolerated\\n- confers equal rights under the law\\n- is not dependent on inherited, involuntary groupings such as race, ethnicity, or ancestral religion'}, {'title': 'standards - civiced.org', 'snippet': 'An understanding of the concept of limited government and its essential components helps citizens understand the necessity of maintaining those conditions that prevent a government from exceeding its powers.\\n- Limited and unlimited governments.Students should be able to explain the essential characteristics of limited and unlimited governments.\\nTo achieve this standard students should be able to\\n- describe the essential characteristics of limited and unlimited governments\\n- limited governments have established and respected restraints on their power, e.g.,\\n- constitutional government--governments characterized by legal limits on political power\\n- unlimited governments are those in which there are no regularized and effective means of restraining their power, i.e.,\\n- authoritarian systems--governments in which political power is concentrated in one person or a small group, and individuals and groups are subordinated to that power'}, {'title': 'standards - civiced.org', 'snippet': 'Whatever facilitates a general intercourse of sentiments, as good roads, domestic commerce, a free press, and particularly a circulation of newspapers through the entire body of people...is favorable to liberty. James Madison (1788)\\n- explain how Congress, the president, and state and local public officials use the media to communicate with the citizenry\\n- evaluate historical and contemporary political communication using such criteria as logical validity, factual accuracy, emotional appeal, distorted evidence, appeals to bias or prejudice, e.g.,\\n- speeches such as Lincoln\\'s \"House Divided,\" Sojourner Truth\\'s \"Ain\\'t I a Woman?\", Chief Joseph\\'s \"I Shall Fight No More Forever,\" Roosevelt\\'s \"Four Freedoms,\" Martin Luther King Jr.\\'s \"I Have a Dream\"\\n- government wartime information programs, campaign advertisements\\n- political cartoons\\nTo achieve this standard, students should be able to\\n- describe the origins and development of the two party system in the United States'}, {'title': 'standards - civiced.org', 'snippet': 'Americans form and join associations in great numbers. The broad range of religious, service, and civic groups forms a part of the rich network of associations that characterizes American society. The powerful role of these kinds of groups, as well as interest groups, labor unions, and professional organizations, is an important factor in understanding American political life.\\nRecognition of the many forms of diversity in American society-- ethnicity, race, religion, class, language, gender, or national origin--embraced in a constitutional system, is a prerequisite to making judgments about the benefits diversity offers and the challenges it poses.\\n- Distinctive characteristics of American society.Students should be able to explain how the following characteristics tend to distinguish American society from most other societies.\\nTo achieve this standard, students should be able to\\n- explain important factors that have helped shape American society, such as'}, {'title': 'standards - civiced.org', 'snippet': \"Separate educational facilities are inherently unequal....[We] hold that the plaintiffs... [are] deprived of the equal protection of the laws guaranteed by the Fourteenth Amendment. Earl Warren (1954)\\n- explain how the individual's rights to life, liberty, and property are protected by the trial and appellate levels of the judicial process and by the principal varieties of law, e.g., constitutional, criminal, and civil law\\n- evaluate the argument that Americans depend too much on the legal system to solve social, economic, and political problems rather than using other means, such as private negotiations, mediation, and participation in the political process\\nTo achieve this standard, students should be able to\\n- explain the importance of an independent judiciary in a constitutional democracy\"}, {'title': 'standards - civiced.org', 'snippet': 'C. What is American political culture?\\nIn contrast to most other nations, the identity of an American citizen is defined by shared political values and principles rather than by ethnicity, race, religion, class, language, gender, or national origin. These shared values and principles have helped to promote cohesion in the daily life of Americans and in times of crisis have enabled them to find common ground with those who differ from them.\\nAlthough political conflicts sometimes have erupted in violence, such as labor disputes, race riots, and draft riots, citizens should understand that political conflict in the United States has usually been less divisive and violent than in many other nations. This is in part because American political conflict, with the major exception of the Civil War, has generally taken place within a constitutional framework which allows for protest politics and promotes the peaceful resolution of differences.'}, {'title': 'standards - civiced.org', 'snippet': '- explain the effects on other nations of significant American political developments, e.g., immigration policies; opposition to communism; promotion of human rights; foreign trade; economic, military, and humanitarian aid\\n- explain why allegiance to some nation-states is being challenged by competing loyalties, such as those to ethnic, religious, tribal, or linguistic groups\\n- explain why transnational loyalties sometimes supersede loyalty to a nation-state, e.g., Communist International, Islam, Christianity\\n- Economic, technological, and cultural developments. Students should be able to evaluate, take, and defend positions about the effects of significant economic, technological, and cultural developments in the United States and other nations.\\nTo achieve this standard, students should be able to'}, {'title': 'standards - civiced.org', 'snippet': \"To achieve this standard, students should be able to\\n- explain the meaning of economic rights as distinguished from personal and political rights, e.g., the right to use money to buy personal property as distinct from the right to donate money for political campaigns\\n- identify major documentary statements of economic rights--the Declaration of Independence, the United States Constitution including the Bill of Rights, state constitutions and bills of rights, legislation, court decisions, and the common law\\n- explain the importance to the individual and society of such economic rights as the right to\\n- acquire, use, transfer, and dispose of property\\n- choose one's work, change employment\\n- join labor unions and professional associations\\n- establish and operate a business\\n- copyright and patent\\n- enter into lawful contracts\"}, {'title': 'standards - civiced.org', 'snippet': 'At the international level there is no political organization with power comparable to that of the nation-state to enforce agreements. As a result, when interests among nation-states clash, wars may erupt.\\nThere are, however, international governmental organizations that provide avenues through which nation-states interact and attempt to manage conflicts peacefully. In addition, numerous nongovernmental organizations play increasingly important roles.\\nTo make judgments about the role of the United States in the world today and what course American foreign policy should take, citizens need to understand some of the major elements of international relations and how world affairs affect them.\\n- Nation-states. Students should be able to explain how the world is organized politically. To achieve this standard, students should be able to\\n- explain the division of the world into nation-states that claim sovereignty over a defined territory and jurisdiction over everyone within it'}, {'title': \"Family's Impact on Individual's Political Attitude and ...\", 'snippet': 'You are now being redirected to ERIC.ED.GOV'}, {'title': 'How Politics Can Affect the Way You Feel About Your Family | ...', 'snippet': 'People find happiness in family bonds when political realities are threatened.'}, {'title': 'How Politics Can Affect the Way You Feel About Your Family | ...', 'snippet': \"As part of a functioning society, our personal well-being is not just dependent on our own thoughts and actions, but also on the actions of those in our social collective — our close friends and family, but also, importantly, people with whom we don't necessarily interact on a daily basis: acquaintances, neighbours, and other citizens in our communities. Even though we may not directly interact with these people, we still depend on them to make smart choices and behave in a way that makes us feel safe in the world around us. For example, one person on their own does not have the power to elect their preferred candidate into office. Rather, we depend on others supporting those candidates and their policies to make our political vision a reality.\"}, {'title': 'How Politics Can Affect the Way You Feel About Your Family | ...', 'snippet': 'For partisan conservatives in the U.S., more negative tweets about President Trump by other citizens should represent a lack of collective political consensus with their own beliefs. For partisan liberals, less negative tweets about Trump from fellow citizens should represent a lack of collective political consensus with their beliefs.'}, {'title': 'How Politics Can Affect the Way You Feel About Your Family | ...', 'snippet': \"For partisan liberals, less negative tweets about Trump from fellow citizens should represent a lack of collective political consensus with their beliefs. Consistent with these hypotheses, across both studies, when the vulnerability of relying on others was made salient, a lack of political consensus in fellow citizens' tweets motivated people to affirm their happiness with their relationships with their families.\"}, {'title': 'How Politics Can Affect the Way You Feel About Your Family | ...', 'snippet': \"News of a leader breaking their own rules or flip-flopping on a public promise not only make us feel less trusting of our political world, but research has shown, these actions also motivate us to draw closer and seek reassurances within our families. As part of a functioning society, our personal well-being is not just dependent on our own thoughts and actions, but also on the actions of those in our social collective — our close friends and family, but also, importantly, people with whom we don't necessarily interact on a daily basis: acquaintances, neighbours, and other citizens in our communities.\"}, {'title': 'Consent of the governed - Wikipedia', 'snippet': \"The legislative and executive power used by government to protect property is nothing except the natural power of each man resigned into the hands of the community…and it is justified merely because it is a better way of protecting natural right than the self-help to which each man is naturally entitled. However, with David Hume a contrary voice is heard. Sabine interprets Hume's skepticism by noting · The political ...\"}, {'title': 'Consent of the governed - Wikipedia', 'snippet': '- David Hume, Of the Original Contract\\n- Philip Pettit, Republicanism: A Theory of Freedom and Government. Oxford: Clarendon Press, 1997 (in which he argues, against a theory of the consent of the governed, in favour of a theory of the lack of explicit rebellion; following a Popperian view on falsifiability, Pettit considers that as consent of the governed is always implicitly supposed, thus trapping the social contract in a vicious circle, it should be replaced by the lack of explicit rebellion.\\n- Jean-Jacques Rousseau, The Social Contract, or Principles of Political Right (1762)'}, {'title': 'Consent of the governed - Wikipedia', 'snippet': 'Consent of the governed\\nIn political philosophy, the phrase consent of the governed refers to the idea that a government\\'s legitimacy and moral right to use state power is justified and lawful only when consented to by the people or society over which that political power is exercised. This theory of consent is historically contrasted to the divine right of kings and had often been invoked against the legitimacy of colonialism. Article 21 of the United Nations\\' 1948 Universal Declaration of Human Rights states that \"The will of the people shall be the basis of the authority of government\".\\nHistory[edit]'}, {'title': 'Consent of the governed - Wikipedia', 'snippet': '- ^ \"The Bill of Rights: A brief history\". American Civil Liberties Union. Archived from the original on August 29, 2022. Retrieved August 29, 2022.\\nThe \"consent of the governed\" meant propertied white men only.\\n- ^ \"Voting Rights Throughout United States History\". National Geographic. Retrieved November 30, 2023.\\nthe country adopted the United States Constitution in 1787. Article 1 of the Constitution empowers state legislatures to oversee federal elections. Suffrage, or the right to vote, was granted exclusively to white, land-owning men.\\n- ^ Cassinelli, C. W. (1959). \"The \\'Consent\\' of the Governed\". Political Research Quarterly. 12 (2): 391–409. doi:10.1177/106591295901200202. S2CID 154712817.\\n- ^ Pitkin, Hanna (1966). \"Obligation and Consent—II\". The American Political Science Review. 60 (1): 39–52. doi:10.2307/1953805. JSTOR 1953805. S2CID 251093199.'}, {'title': 'Consent of the governed - Wikipedia', 'snippet': 'The political world over, absolute governments which do not even do lip-service to the fiction of consent are more common than free governments, and their subjects rarely question their right except when tyranny becomes too oppressive.[2]: 603\\nSabine revived the concept from its status as a political myth after Hume, by referring to Thomas Hill Green. Green wrote that government required \"will not force\" for administration. As put by Sabine,[2]: 731\\nEven the most powerful and the most despotic government cannot hold a society together by sheer force; to that extent there was a limited truth to the old belief that governments are produced by consent.\\nAccording to James Feibleman, compliance with law is evidence for consent of the governed:'}, {'title': 'Consent of the governed - Wikipedia', 'snippet': 'The conditions for the existence of a political society have less to do with force and fear of coercion than with the members\\' mutual recognition of a good common to themselves and others, although it may not be consciously expressed as such. Thus for the conditions for any civil combination to disappear through resistance to a despotic government or disobedience to law would require such a disastrous upheaval as to be unlikely in all but the most extreme circumstances in which we might agree with Green that the price would be too high to pay, yet sufficiently rare to allow us to acknowledge that there would ordinarily be a moral duty to act to overthrow any state that did not pursue the common good.[5]\\nIn the United States of America[edit]\\n\"Consent of the governed\" is a phrase found in the 1776 United States Declaration of Independence, written by Thomas Jefferson.'}, {'title': 'Consent of the governed - Wikipedia', 'snippet': 'In his 1937 book A History of Political Theory, George Sabine collected the views of many political theorists on consent of the governed. He notes the idea mentioned in 1433 by Nicholas of Cusa in De Concordantia Catholica. In 1579 an influential Huguenot tract Vindiciae contra tyrannos was published which Sabine paraphrases: \"The people lay down the conditions which the king is bound to fulfill. Hence they are bound to obedience only conditionally, namely, upon receiving the protection of just and lawful government…the power of the ruler is delegated by the people and continues only with their consent.\"[2]: 381 In England, the Levellers also held to this principle of government.\\nJohn Milton wrote'}, {'title': 'Consent of the governed - Wikipedia', 'snippet': 'History[edit]\\nPerhaps the earliest utterance of \"consent of the governed\" appears in the writings of Scottish Catholic priest and Franciscan friar Duns Scotus, who proposed this in his work Ordinatio in the 1290s. Scotus\\'s lengthy writing in theology have largely overshadowed this notable contribution that he made to early political theory. It is believed these writings influenced the Declaration of Arbroath in 1320.[1]'}, {'title': 'Consent of the governed - Wikipedia', 'snippet': 'However, the \"consent of the governed\", when the Constitution was ratified, was flawed in that it was limited to white men of property.[9][10]\\nTypes of consent[edit]\\nUnanimous consent[edit]\\nA key question is whether the unanimous consent of the governed is required; if so, this would imply the right of secession for those who do not want to be governed by a particular collective. All democratic governments today allow decisions to be made even over the dissent of a minority of voters which, in some theorists\\' view, calls into question whether said governments can rightfully claim, in all circumstances, to act with the consent of the governed.[11]\\nHypothetical consent[edit]'}, {'title': 'Consent of the governed - Wikipedia', 'snippet': 'Engineered consent[edit]\\nAccording to the propagandist Edward Bernays when discussing public relations techniques that were described in his essay and book The Engineering of Consent (1955), the public may be manipulated by its subconscious desires to render votes to a political candidate. Consent thus obtained undermines the legitimacy of government. Bernays claimed that \"the basic principle involved is simple but important: If the opinions of the public are to control the government, these opinions must not be controlled by the government.\"[14]\\nEdward S. Herman and Noam Chomsky in their book, Manufacturing Consent (1988), advanced a propaganda model for the news media in the United States[15] in which coverage of current events was skewed by corporations and the state in order to manufacture the consent of the governed.\\nSee also[edit]\\n- Bay\\'ah\\n- Consent of the Networked (2012)\\n- Mandate (politics)\\n- Popular sovereignty\\n- Public policy\\n- Rule of law\\n- Self determination'}, {'title': 'Consent of the governed - Wikipedia', 'snippet': 'For a legal system to be consistent, it must be applicable; and for it to be complete, it must be compatible with the fundamental convictions of a majority of citizens. To say that an established legal order exists among them means that overtly they have consented to be governed in this fashion. Such public beliefs are embodied in institutions, first and foremost in the institution of the state, with its administration of law.[4]\\nConsent of the governed, within the social liberalism of T. H. Green, was also described by Paul Harris:'}, {'title': 'Why real-world governments don’t have the consent of the governed ...', 'snippet': 'Political philosopher Jason Brennan explains why real-world government power does not really have the consent of the governed. True consent happens only when \"no\" means \"no.\" But to the government, \"no\" almost always effectively means \"yes.\" That doesn\\'t mean that government is necessarily ...'}, {'title': 'Why real-world governments don’t have the consent of the governed ...', 'snippet': 'A government that rules without consent isn’t necessarily a bad government. In the terminology of the current front-runner for the Republican nomination for our most powerful political office, it might even turn out to be super-classy and hugely terrific. But it should be viewed with greater suspicion and kept on a tighter leash than a government that genuinely derives its just powers from the consent of the governed.'}, {'title': 'Why real-world governments don’t have the consent of the governed ...', 'snippet': 'The Declaration of Independence famously states that governments derive “their just powers from the consent of the governed.” But, sadly, this is almost never the case in the real world. If it is indeed true, as Abraham Lincoln famously put it, that “no man is good enough to govern another man without that other’s consent,” that principle has more radical implications than Lincoln probably intended. Few if any of those who wield government power measure up to that lofty standard.\\nI. Why Most Exercises of Government Power are Nonconsensual.\\nGeorgetown political philosopher Jason Brennan has an excellent post summarizing the reasons why the authority of actually existing democratic governments is not based on any meaningful consent. In a genuinely consensual political regime, “no” means “no.” But actual governments generally treat “no” as just another form of “yes”:'}, {'title': 'Political socialization - Wikipedia', 'snippet': 'The theological and moral perspectives ... to family structure, gender roles, abortion, anti-gay rhetoric, and the value of human life.\" State governments can control mass media to \"inform, misinform, or misinform the press and thus the public \\'\\', a strategy referred to as propaganda. The ability to control agents of socialization, such as the media, brings control to the state to serve a political, economic, or personal agenda that benefits the state. Community mobilization ...'}, {'title': 'Political socialization - Wikipedia', 'snippet': \"Community mobilization brings significant experiences of political socialization events that could influence one's political attitudes with a collective community goal.[17] An example is how Prop 187 was specifically targeting illegal immigrants in LA County within the state of California. Given the severity of the policy targeting a specific community, this created a mass mobilization of the Latino and immigrant community, creating a voting bloc that prevented the initiative of Prop 187.[18] Harvey Milk was a significant political mobilizing the queer community during the 1978 race for California governor with increasing support for Prop 6, a law that would mandate firing any queer teacher or employee in any California public school. As this threatened the queer community and increased immigration of gay, lesbian, and transgender individuals, specifically in the San Francisco area, Milk was able to mobilize the queer community to gain enough momentum to vote against Prop 6\"}, {'title': 'Political socialization - Wikipedia', 'snippet': 'Religion[edit]\\nReligious beliefs and practices influence political opinions, priorities, and political participation. The theological and moral perspectives offered by religious institutions shape judgment regarding political attitudes and, ultimately, translate to direct influence on political matters such as \"the redistribution of wealth, equality, tolerance for deviance, individual freedom, the severity of criminal punishment, policies relating to family structure, gender roles, abortion, anti-gay rhetoric, and the value of human life.\"[15]\\nThe State[edit]\\nState governments can control mass media to \"inform, misinform, or misinform the press and thus the public \\'\\', a strategy referred to as propaganda. The ability to control agents of socialization, such as the media, brings control to the state to serve a political, economic, or personal agenda that benefits the state. [16]\\nCommunity[edit]'}, {'title': 'Political socialization - Wikipedia', 'snippet': \"[edit]\\nAgents of socialization, sometimes called institutions, work together to influence and shape people's political norms and values. In the case of political socialization, the most significant agents include, but are not limited to, families, media, education, and peers. Other agents include religion, the state, and community. These agents shape your understanding of politics by exposing you to political ideas, values, and behaviors.\\nFamily[edit]\"}, {'title': 'Political socialization - Wikipedia', 'snippet': 'Political socialization is the process by which individuals internalize and develop their political values, ideas, attitudes, and perceptions via the agents of socialization. Agents such as family, education, media, and peers influence the most in establishing varying political lenses that frame one\\'s perception of political values, ideas, and attitudes. These perceptions, in turn, shape and define individuals\\' definitions of who they are and how they should behave in the political and economic institutions in which they live. This learning process shapes perceptions that influence which norms, behaviors, values, opinions, morals, and priorities will ultimately shape their political ideology: it is a \"study of the developmental processes by which people of all ages and adolescents acquire political cognition, attitudes, and behaviors.\" [1] These agents expose individuals Through varying degrees of influence, inducing them into the political culture and their orientations towards'}, {'title': 'Political socialization - Wikipedia', 'snippet': 'to gain enough momentum to vote against Prop 6 successfully.[19] This could have been a pivotal introduction to political participation for those in these areas, motivating many to continue voting in future elections.[17] In many cases, the experience of community mobilization is the first introduction to political policies and political participation, starting their political journey connected with their home.'}, {'title': 'Political socialization - Wikipedia', 'snippet': 'Over the decades, literature has heavily emphasizes that the agent of the family is the most influential, with literature suggesting that family and the transmission of attitudes from parent to child are the most prominent agents of socialization.[2] Literature examines how aspects of family structures and dynamics change the varying influence of the offspring\\'s values as a function of the distribution of their parent\\'s attitudes. Families perpetuate values that support political authorities and can heavily contribute to children\\'s initial political ideological views, or party affiliations.[1] Literature suggest that the transmission of intergenerational political attitudes shows a strong lineage concerning their parents and siblings.[3] Families have an effect on \"political knowledge, identification, efficacy, and participation\", depending on variables such as \"family demographics, life cycle, parenting style, parental level of political cynicism and frequency of political'}, {'title': 'Political socialization - Wikipedia', 'snippet': \"Geographical location also plays a role in one's political media socialization. For example, news outlets on the East Coast tend to cover international affairs in Europe and the Middle East the most, while West Coast news outlets are more likely to cover Asian affairs; this demonstrates that community region affects patterns in political socialization. The region is also significant for specific political attitudes. Living near the Pakistan-India border, an individual will likely have solid political attitudes toward the Pakistan-India tension.[19] Given the socialization of their parents, cousins, grandparents, peers, and education, all have a significant role in teaching their youth about the relationship one has with the other state. Suppose one immigrated from Cuba to the United States. In that case, they will be the political socialization inclination to obtain conservative attitudes in the United States because of the regional movements from a leftist government in Cuba.\"}, {'title': 'Political socialization - Wikipedia', 'snippet': 'Political socialization begins in childhood. Some research suggests that family and school teachers are the most influential factors in socializing children, but recent research designs have more accurately estimated the high influence of the media in the process of political socialization. On average, both young children and teenagers in the United States spend more time a week consuming television and digital media than they spend in school. Young children consume an average of thirty-one hours a week, while teenagers consume forty-eight hours of media a week. High school students attribute the information that forms their opinions and attitudes about race, war, economics, and patriotism to mass media much more than their friends, family, or teachers. Research has also shown that children who consume more media than others show greater support for and understanding of American values, such as free speech. This may be because eighty percent of the media content children consume is'}, {'title': 'Political socialization - Wikipedia', 'snippet': 'Life Stages of Political Socialization[edit]\\nChildhood[edit]\\nPolitical socialization begins in childhood. Research suggest that family and educational environment are the most influencial factors in socializing children, however recent literature suggest that increasing influence is coming from mass media such as digital and social media. On average, both young children and teenagers in the United States spend more time a week consuming television and digital media than they spend in school.[21] Young children consume an average of thirty-one hours a week, while teenagers consume forty-eight hours of media a week. Given that childhood is when a human is the most impressionable the influential of agents of socialization is significant as children\\'s brains are \"prime for learning\", thus more likely to take messages of political attitudes of the world at face value.[22]\\nAdolescence[edit]'}, {'title': 'Parent Contributions to the Development of Political Attitudes ...', 'snippet': 'Where do our political attitudes originate? Although early research attributed the formation of such beliefs to parent and peer socialization, genetically sensitive designs later clarified the substantial role of genes in the development of sociopolitical ...'}, {'title': 'Parent Contributions to the Development of Political Attitudes ...', 'snippet': 'Where do our political attitudes originate? Although early research attributed the formation of such beliefs to parent and peer socialization, genetically sensitive designs later clarified the substantial role of genes in the development of sociopolitical attitudes. However, it has remained unclear whether parental influence on offspring attitudes persists beyond adolescence. In a unique sample of 394 adoptive and biological families with offspring more than 30 years old, biometric modeling revealed significant evidence for genetic and nongenetic transmission from both parents for the majority of seven political-attitude phenotypes.'}, {'title': 'Parent Contributions to the Development of Political Attitudes ...', 'snippet': 'The difficulty in trying to infer parent effects from twin or even twin-family designs is that the inference is necessarily indirect, occurring when observed twin similarity cannot be accounted for entirely by genetic factors. Adoption studies provide a direct way of assessing parental environmental influences, because in the absence of selective placement, resemblance between parents and adopted offspring can be due only to environmental mechanisms (McGue et al., 2007).'}, {'title': 'Parent Contributions to the Development of Political Attitudes ...', 'snippet': 'Adoption studies provide a direct way of assessing parental environmental influences, because in the absence of selective placement, resemblance between parents and adopted offspring can be due only to environmental mechanisms (McGue et al., 2007). The few adoption studies that exist contrast with twin studies in providing tantalizing hints at the potential influence of the shared family environment.'}, {'title': 'Parent Contributions to the Development of Political Attitudes ...', 'snippet': 'Supplemental material, sj-pdf-1-pss-10.1177_09567976211021844 for Parent Contributions to the Development of Political Attitudes in Adoptive and Biological Families by Emily A. Willoughby, Alexandros Giannelis, Steven Ludeke, Robert Klemmensen, Asbjørn S. Nørgaard, William G. Iacono, James J. Lee and Matt McGue in Psychological Science · Where do our political attitudes originate?'}, {'title': 'The purpose of political parties | Democracy | Government.nl', 'snippet': 'The Netherlands is a parliamentary democracy with various political parties. Under the Political Parties (Grants) Act, national political parties can receive government grants to subsidise their activities.'}, {'title': 'The purpose of political parties | Democracy | Government.nl', 'snippet': 'The purpose of political parties\\nThe Netherlands is a parliamentary democracy with various political parties. Under the Political Parties (Grants) Act, national political parties can receive government grants to subsidise their activities.\\nPolitical parties in a parliamentary democracy\\nIn a parliamentary democracy, citizens elect their representatives. In the Netherlands this happens every 4 years. The candidates are members of political parties. Citizens vote for the party of their choice and, in this way, influence government policy.\\nRole of political parties\\nA political party brings together people with the same political ideas. By taking part in an election, parties hope to get as many of their members as possible into a representative body, like parliament or a municipal council. At the same time they try to hold as many posts as possible in the government, or in the municipal or provincial executive.'}]\n",
      "2725\n",
      "80 15251\n"
     ]
    }
   ],
   "source": [
    "list_of_search_results = []\n",
    "for one_hit in first_query_sr_you[\"hits\"]:\n",
    "    list_of_search_results.append({\"title\": one_hit[\"title\"], \"snippet\": one_hit[\"description\"]})\n",
    "    list_of_search_results.extend([{\"title\": one_hit[\"title\"], \"snippet\": one_snippet} for one_snippet in one_hit[\"snippets\"]])\n",
    "print(list_of_search_results)\n",
    "full_text_of_search_results = \"\\n\".join([f\"title: {osr['title']}\\ntext: {osr['snippet']}\" for osr in list_of_search_results[:20]])\n",
    "print(len(re.findall(r'\\w+|[^\\s\\w]+', full_text_of_search_results)))\n",
    "print(len(list_of_search_results), len(full_text_of_search_results))"
   ]
  },
  {
   "cell_type": "markdown",
   "id": "a2e697c9-0a78-4d9f-a3ab-5b1ee4bfbb5c",
   "metadata": {},
   "source": [
    "#### End Trial"
   ]
  },
  {
   "cell_type": "code",
   "execution_count": 88,
   "id": "5f4d8bed-abf1-4c6e-9ca3-b66b0d347e69",
   "metadata": {},
   "outputs": [
    {
     "data": {
      "application/vnd.jupyter.widget-view+json": {
       "model_id": "9ed33eb036314eb79ae9c80aab8ffd06",
       "version_major": 2,
       "version_minor": 0
      },
      "text/plain": [
       "  0%|          | 0/20 [00:00<?, ?it/s]"
      ]
     },
     "metadata": {},
     "output_type": "display_data"
    }
   ],
   "source": [
    "for one_query in tqdm(all_queries):\n",
    "    ex_you_search_results = get_ai_snippets_for_query(one_query[\"query\"])\n",
    "    ex_you_search_results[\"datetime\"] = datetime.now().isoformat()\n",
    "    one_query[\"raw_search_results\"] = ex_you_search_results\n",
    "    list_of_search_results = []\n",
    "    for one_hit in ex_you_search_results[\"hits\"]:\n",
    "        list_of_search_results.append({\"title\": one_hit[\"title\"], \"snippet\": one_hit[\"description\"]})\n",
    "        list_of_search_results.extend([{\"title\": one_hit[\"title\"], \"snippet\": one_snippet} for one_snippet in one_hit[\"snippets\"]])\n",
    "    one_query[\"search_results\"] = list_of_search_results"
   ]
  },
  {
   "cell_type": "code",
   "execution_count": 93,
   "id": "763fe296-74fc-4014-8ff5-42671454c6e4",
   "metadata": {},
   "outputs": [
    {
     "name": "stdout",
     "output_type": "stream",
     "text": [
      "n_snippets: 80\n",
      "---\n",
      "n_snippets: 79\n",
      "---\n",
      "n_snippets: 87\n",
      "---\n",
      "n_snippets: 78\n",
      "---\n",
      "n_snippets: 87\n",
      "---\n",
      "n_snippets: 97\n",
      "---\n",
      "n_snippets: 60\n",
      "---\n",
      "n_snippets: 77\n",
      "---\n",
      "n_snippets: 86\n",
      "---\n",
      "n_snippets: 65\n",
      "---\n",
      "n_snippets: 90\n",
      "---\n",
      "n_snippets: 82\n",
      "---\n",
      "n_snippets: 94\n",
      "---\n",
      "n_snippets: 78\n",
      "---\n",
      "n_snippets: 82\n",
      "---\n",
      "n_snippets: 86\n",
      "---\n",
      "n_snippets: 73\n",
      "---\n",
      "n_snippets: 88\n",
      "---\n",
      "n_snippets: 77\n",
      "---\n",
      "n_snippets: 70\n",
      "---\n"
     ]
    }
   ],
   "source": [
    "for one_query in all_queries:\n",
    "    # print(one_query[\"query\"])\n",
    "    # print([osr['title'] for osr in one_query[\"search_results\"]])\n",
    "    print('n_snippets:', len(one_query[\"search_results\"]))\n",
    "    print('---')"
   ]
  },
  {
   "cell_type": "code",
   "execution_count": 100,
   "id": "b8f2d529-fd0b-4a98-88e2-ff800d2568e0",
   "metadata": {},
   "outputs": [],
   "source": [
    "with open(\"../outputs/cohere_you_20nelsonqueries/search_results.json\", 'w') as fout:\n",
    "    json.dump(all_queries, fout, indent=2)"
   ]
  },
  {
   "cell_type": "markdown",
   "id": "3361eb77-02d7-4815-9681-9765d776988a",
   "metadata": {},
   "source": [
    "## Run Cohere Command-R RAG"
   ]
  },
  {
   "cell_type": "markdown",
   "id": "5e649a7b-d5bb-4b3c-967a-ca7e434367d4",
   "metadata": {},
   "source": [
    "#### Trial"
   ]
  },
  {
   "cell_type": "code",
   "execution_count": 101,
   "id": "0465fe1a-694c-40bb-9f77-e248dc1e465c",
   "metadata": {},
   "outputs": [],
   "source": [
    "first_query_res_command_r = cohere_client.chat(\n",
    "          model=\"command-r\",\n",
    "          message=all_queries[0][\"query\"],\n",
    "          documents=all_queries[0][\"search_results\"][:20]\n",
    "    )"
   ]
  },
  {
   "cell_type": "code",
   "execution_count": 102,
   "id": "7c00dd8d-082e-46a5-b1fd-9449ef6fd7d9",
   "metadata": {},
   "outputs": [
    {
     "data": {
      "text/plain": [
       "cohere.Chat {\n",
       "\tid: 907c342c-72d1-4427-9859-aa0e25a638fa\n",
       "\tresponse_id: 907c342c-72d1-4427-9859-aa0e25a638fa\n",
       "\tgeneration_id: 6f35620e-6441-4337-a46d-ec2b6fb53c17\n",
       "\tmessage: Should a political community be governed in the same way as a family?\n",
       "\ttext: The idea that a political community should be governed in the same way as a family is a theory of political philosophy called 'Family as a model for the state'. This theory explains the structure of certain kinds of state in terms of the structure of the family. \n",
       "\n",
       "Aristotle, in his Politics, was a strong advocate for this approach, stating that \"the government of a household is a monarchy, since every house is governed by a single ruler.\" He also said that husbands exercise a republican government over their wives and monarchical government over their children. Aristotle's view implies that the state is a reflection of the patriarchal family, much like a king is reflected by his subjects. \n",
       "\n",
       "This theory has been largely employed by monarchists and aristocratics to mirror the hierarchical dynamics of the family unit. In aristocratic nations, the social institutions only recognise the father as the authority figure; thus, he acquires a political right to command his family. The government of such nations never makes a direct appeal to the governed, believing that leading the foremost is enough for the rest to follow.\n",
       "\n",
       "However, other forms of government do not necessarily follow this family model. For instance, in democracies, a father is only regarded as an older and richer community member—the government picks off every individual to adhere to the community's general laws.\n",
       "\n",
       "Therefore, although the theory of 'Family as a model for the state' is widely accepted among monarchists and aristocratics, other ideologies acknowledge and employ different forms of political leadership within the community.\n",
       "\tconversation_id: None\n",
       "\tprompt: None\n",
       "\tchat_history: [{'message': 'Should a political community be governed in the same way as a family?', 'response_id': '907c342c-72d1-4427-9859-aa0e25a638fa', 'generation_id': 'dec57b31-c8e7-4482-81ee-e77207fc2903', 'role': 'USER'}, {'message': 'The idea that a political community should be governed in the same way as a family is a theory of political philosophy called \\'Family as a model for the state\\'. This theory explains the structure of certain kinds of state in terms of the structure of the family. \\n\\nAristotle, in his Politics, was a strong advocate for this approach, stating that \"the government of a household is a monarchy, since every house is governed by a single ruler.\" He also said that husbands exercise a republican government over their wives and monarchical government over their children. Aristotle\\'s view implies that the state is a reflection of the patriarchal family, much like a king is reflected by his subjects. \\n\\nThis theory has been largely employed by monarchists and aristocratics to mirror the hierarchical dynamics of the family unit. In aristocratic nations, the social institutions only recognise the father as the authority figure; thus, he acquires a political right to command his family. The government of such nations never makes a direct appeal to the governed, believing that leading the foremost is enough for the rest to follow.\\n\\nHowever, other forms of government do not necessarily follow this family model. For instance, in democracies, a father is only regarded as an older and richer community member—the government picks off every individual to adhere to the community\\'s general laws.\\n\\nTherefore, although the theory of \\'Family as a model for the state\\' is widely accepted among monarchists and aristocratics, other ideologies acknowledge and employ different forms of political leadership within the community.', 'response_id': '907c342c-72d1-4427-9859-aa0e25a638fa', 'generation_id': '6f35620e-6441-4337-a46d-ec2b6fb53c17', 'role': 'CHATBOT'}]\n",
       "\tpreamble: None\n",
       "\tclient: <cohere.client.Client object at 0x7f1203e1e160>\n",
       "\ttoken_count: {'prompt_tokens': 3744, 'response_tokens': 305, 'total_tokens': 4049, 'billed_tokens': 3210}\n",
       "\tmeta: {'api_version': {'version': '1'}, 'billed_units': {'input_tokens': 2905, 'output_tokens': 305}}\n",
       "\tis_search_required: None\n",
       "\tcitations: [{'start': 88, 'end': 118, 'text': 'theory of political philosophy', 'document_ids': ['doc_5', 'doc_7']}, {'start': 126, 'end': 159, 'text': \"'Family as a model for the state'\", 'document_ids': ['doc_5', 'doc_7']}, {'start': 173, 'end': 262, 'text': 'explains the structure of certain kinds of state in terms of the structure of the family.', 'document_ids': ['doc_5', 'doc_7']}, {'start': 265, 'end': 274, 'text': 'Aristotle', 'document_ids': ['doc_6', 'doc_7']}, {'start': 283, 'end': 291, 'text': 'Politics', 'document_ids': ['doc_6']}, {'start': 347, 'end': 442, 'text': '\"the government of a household is a monarchy, since every house is governed by a single ruler.\"', 'document_ids': ['doc_6']}, {'start': 461, 'end': 567, 'text': 'husbands exercise a republican government over their wives and monarchical government over their children.', 'document_ids': ['doc_6']}, {'start': 598, 'end': 649, 'text': 'the state is a reflection of the patriarchal family', 'document_ids': ['doc_7']}, {'start': 663, 'end': 697, 'text': 'king is reflected by his subjects.', 'document_ids': ['doc_7']}, {'start': 741, 'end': 752, 'text': 'monarchists', 'document_ids': ['doc_7']}, {'start': 757, 'end': 770, 'text': 'aristocratics', 'document_ids': ['doc_3', 'doc_4']}, {'start': 774, 'end': 826, 'text': 'mirror the hierarchical dynamics of the family unit.', 'document_ids': ['doc_3', 'doc_4', 'doc_7']}, {'start': 830, 'end': 850, 'text': 'aristocratic nations', 'document_ids': ['doc_3']}, {'start': 856, 'end': 925, 'text': 'social institutions only recognise the father as the authority figure', 'document_ids': ['doc_3']}, {'start': 947, 'end': 985, 'text': 'political right to command his family.', 'document_ids': ['doc_1', 'doc_3']}, {'start': 1017, 'end': 1060, 'text': 'never makes a direct appeal to the governed', 'document_ids': ['doc_4']}, {'start': 1077, 'end': 1131, 'text': 'leading the foremost is enough for the rest to follow.', 'document_ids': ['doc_4']}, {'start': 1142, 'end': 1167, 'text': 'other forms of government', 'document_ids': ['doc_1', 'doc_2']}, {'start': 1230, 'end': 1241, 'text': 'democracies', 'document_ids': ['doc_1']}, {'start': 1245, 'end': 1308, 'text': 'father is only regarded as an older and richer community member', 'document_ids': ['doc_1']}, {'start': 1313, 'end': 1393, 'text': \"government picks off every individual to adhere to the community's general laws.\", 'document_ids': ['doc_1']}, {'start': 1419, 'end': 1425, 'text': 'theory', 'document_ids': ['doc_7']}, {'start': 1429, 'end': 1462, 'text': \"'Family as a model for the state'\", 'document_ids': ['doc_5', 'doc_7']}, {'start': 1488, 'end': 1499, 'text': 'monarchists', 'document_ids': ['doc_7']}, {'start': 1504, 'end': 1517, 'text': 'aristocratics', 'document_ids': ['doc_3', 'doc_4']}]\n",
       "\tdocuments: [{'id': 'doc_5', 'snippet': 'The family as a model for the organization of the state is a theory of political philosophy. It explains the structure of certain kinds of state in terms of the structure of the family (as a model or as a claim about the historical growth of the state), or it attempts to justify certain types ...', 'title': 'Family as a model for the state - Wikipedia'}, {'id': 'doc_7', 'snippet': 'Family as a model for the state\\nThis article possibly contains original research. (January 2023)\\nThe family as a model for the organization of the state is a theory of political philosophy. It explains the structure of certain kinds of state in terms of the structure of the family (as a model or as a claim about the historical growth of the state), or it attempts to justify certain types of state by appeal to the structure of the family. The first known writer to use it (certainly in any clear and developed way) was Aristotle, who argued that the natural progression of human beings was from the family via small communities to the polis.\\nMany writers from ancient times to the present have seen parallels between the family and the forms of the state. In particular, monarchists have argued that the state mirrors the patriarchal family, with the people obeying the king as children obey their father.\\nAncient Greek thought[edit]', 'title': 'Family as a model for the state - Wikipedia'}, {'id': 'doc_6', 'snippet': 'Aristotle often describes personal and domestic relationships in terms of different forms of government. He gives examples such as men and their domestic animals, wives, slaves, and children. He says, for example: \"the government of a household is a monarchy, since every house is governed by a single ruler.\"(2)/ \"The rule of a household is a monarchy, for every house is under one head\"[2] Later in the same text, he says that husbands exercise a republican government over their wives and monarchical government over their children, and that they exhibit political office over slaves and royal office over the family in general. (Politics Bk I, §v, 1–2; 1259a 35–1259b 1)\\nHowever, while he is prepared to use political terms as metaphors for domestic relationships, he is equally clear that such metaphors are limited:', 'title': 'Family as a model for the state - Wikipedia'}, {'id': 'doc_3', 'snippet': 'Among aristocratic nations, social institutions recognize, in truth, no one in the family but the father; children are received by society at his hands; society governs him, he governs them. Thus the parent has not only a natural right, but he acquires a political right to command them: he is the author and the support of his family, but he is also its constituted ruler.', 'title': 'Family Politics | Lapham’s Quarterly'}, {'id': 'doc_4', 'snippet': 'It may perhaps not be without utility to show how these changes which take place in family relations, are closely connected with the social and political revolution which is approaching its consummation under our own observation. To be a successful father… there’s one absolute rule: when you have a kid, don’t look at it for the first two years. —Ernest Hemingway, 1954 · There are certain great social principles, which a people either introduces everywhere, or tolerates nowhere. In countries which are aristocratically constituted with all the gradations of rank, the government never makes a direct appeal to the mass of the governed: as men are united together, it is enough to lead the foremost—the rest will follow.', 'title': 'Family Politics | Lapham’s Quarterly'}, {'id': 'doc_1', 'snippet': 'Thus the parent has not only a natural right, but he acquires a political right to command them: he is the author and the support of his family, but he is also its constituted ruler. In democracies, where the government picks out every individual singly from the mass to make him subservient to the general laws of the community, no such intermediate person is required: a father is there, in the eye of the law, only a member of the community, older and richer than his sons.', 'title': 'Family Politics | Lapham’s Quarterly'}, {'id': 'doc_2', 'snippet': 'Democracy loosens social ties, but it draws the ties of nature more tight; it brings kindred more closely together, while it places the various members of the community more widely apart. ... From Democracy in America. At the age of twenty-five in 1831, Tocqueville boarded a schooner with his friend Gustave de Beaumont for a government-sanctioned trip to examine the American penal system.', 'title': 'Family Politics | Lapham’s Quarterly'}]\n",
       "\tsearch_results: None\n",
       "\tsearch_queries: None\n",
       "\ttool_calls: None\n",
       "\tfinish_reason: COMPLETE\n",
       "}"
      ]
     },
     "execution_count": 102,
     "metadata": {},
     "output_type": "execute_result"
    }
   ],
   "source": [
    "first_query_res_command_r"
   ]
  },
  {
   "cell_type": "code",
   "execution_count": 108,
   "id": "295a7d7d-7243-4247-8ac0-027647c6e611",
   "metadata": {},
   "outputs": [
    {
     "data": {
      "text/plain": [
       "7"
      ]
     },
     "execution_count": 108,
     "metadata": {},
     "output_type": "execute_result"
    }
   ],
   "source": [
    "len(first_query_res_command_r.documents)"
   ]
  },
  {
   "cell_type": "code",
   "execution_count": 111,
   "id": "f66e9614-d3c1-4527-8c09-81c0d7cf9d2d",
   "metadata": {},
   "outputs": [],
   "source": [
    "import time"
   ]
  },
  {
   "cell_type": "code",
   "execution_count": 136,
   "id": "526e9913-d512-46b6-b4f8-300c2c032b6a",
   "metadata": {},
   "outputs": [
    {
     "data": {
      "application/vnd.jupyter.widget-view+json": {
       "model_id": "d2490be0df654973a1b10efe3996b550",
       "version_major": 2,
       "version_minor": 0
      },
      "text/plain": [
       "  0%|          | 0/20 [00:00<?, ?it/s]"
      ]
     },
     "metadata": {},
     "output_type": "display_data"
    }
   ],
   "source": [
    "all_outputs, all_outputs_raw = [], []\n",
    "for one_query in tqdm(all_queries):\n",
    "    st_time = time.time()\n",
    "    one_generation = cohere_client.chat(\n",
    "          model=\"command-r\",\n",
    "          message=one_query[\"query\"],\n",
    "          documents=one_query[\"search_results\"][:20],\n",
    "          k=2\n",
    "    )\n",
    "    one_out, one_out_raw = one_query.copy(), one_query.copy()\n",
    "    del one_out_raw[\"raw_search_results\"]\n",
    "    one_out_raw['raw_cohere_gen'] = one_generation.__repr__()\n",
    "    all_outputs_raw.append(one_out_raw)\n",
    "\n",
    "    del one_out[\"raw_search_results\"]\n",
    "    one_out[\"citations\"] = one_generation.citations\n",
    "    one_out[\"used_documents\"] = one_generation.documents\n",
    "    one_out[\"response\"] = one_generation.text\n",
    "    one_out[\"meta\"] = one_generation.meta\n",
    "    all_outputs.append(one_out)\n",
    "\n",
    "    # Rate limit\n",
    "    time.sleep(max(0.0, 12 - (time.time() - st_time)))"
   ]
  },
  {
   "cell_type": "code",
   "execution_count": 138,
   "id": "6d22ff74-733d-4bf1-b3d3-c70136b66553",
   "metadata": {},
   "outputs": [
    {
     "name": "stdout",
     "output_type": "stream",
     "text": [
      "Should a political community be governed in the same way as a family?\n",
      "The idea that a political community should be governed in the same way as a family is a theory of political philosophy called 'Family as a model for the state'. This theory explains the structure of certain kinds of state in terms of the structure of the family. \n",
      "\n",
      "Aristotle, in his Politics, was a strong advocate for this approach, stating that \"the government of a household is a monarchy, since every house is governed by a single ruler.\" He also said that husbands exercise a republican government over their wives and monarchical government over their children. Aristotle's view implies that the state is a reflection of the patriarchal family, much like a king is reflected by his subjects. \n",
      "\n",
      "This theory has been largely employed by monarchists and aristocratics to mirror the hierarchical dynamics of the family unit. In aristocratic nations, the social institutions only recognise the father as the authority figure; thus, he acquires a political right to command his family. The government of such nations never makes a direct appeal to the governed, believing that leading the foremost is enough for the rest to follow.\n",
      "\n",
      "However, other forms of government do not necessarily follow this family structure. For instance, in democracies, a father is only regarded as an older and richer community member—the government picks off every individual to adhere to the community's general laws.\n",
      "\n",
      "Therefore, although the theory of 'Family as a model for the state' is widely associated with Aristotle's view of monarchy, other forms of government may not adhere to the same family structure.\n",
      "n_snippets: 6\n",
      "---\n",
      "What is the value in precision?\n",
      "Precision refers to the amount of information that is conveyed by a number in terms of its digits. It shows the closeness of two or more measurements to each other and the consistency of multiple measurements of the same object. Precision is unrelated to accuracy. \n",
      "\n",
      "For example, the number 33.7 has a precision of 1 (one decimal digit).\n",
      "n_snippets: 17\n",
      "---\n",
      "Does the ability to think presuppose linguistic competence?\n",
      "Linguistic competence refers to an individual's unconscious or tacit knowledge of the structure of their language, which allows them to use and understand it. Sources argue that children effortlessly acquire this competence, indicating that linguistic knowledge precedes speech.\n",
      "\n",
      "In pragmatics, a branch of linguistics, presupposition (or PSP) is an implicit assumption about the world or a background belief relating to an utterance whose truth is taken for granted in discourse. Presuppositions are a property of the main verbs in sentences. Negating a sentence does not change its presuppositions. \n",
      "\n",
      "Therefore, the ability to think does not presuppose linguistic competence, because even without linguistic competence, one can still hold the capacity to think and form presuppositions. Furthermore, the linguistic competence theory proposed by Chomsky distinguishes between competence, which is the unconscious linguistic knowledge, and performance, which is the use of language in practical situations. This implies that the ability to think, being associated with competence, exists separately from language performance. \n",
      "\n",
      "It's also important to note that presuppositions are not limited to linguistically competent individuals. A presupposition trigger, such as a change of state verb or an iterative, implies a previous state of affairs. For example, the sentence \"The flying saucer came again\" presupposes that the saucer came before. Such triggers are not dependent on linguistic competence.\n",
      "n_snippets: 16\n",
      "---\n",
      "Does linguistic competence presuppose the ability to think?\n",
      "The term 'linguistic competence' is used by speech experts and anthropologists to describe how language is defined within a community of speakers. Linguistic competence is closely related to the concept of generative grammar, which argues that all native speakers of a language have an unconscious understanding of the rules governing the language. According to Noam Chomsky's theory on linguistic competence, it is an innate linguistic knowledge, that allows a person to match sounds and meanings, and is therefore a natural ability with which children are born. This knowledge is tacit, or implicit, meaning that it is unconsciously possessed, and people do not have conscious access to it. \n",
      "\n",
      "Some linguistic theorists see linguistic competence as an ability that presupposes thinking, as it involves an understanding of the rules and construction of language. Competence, in this sense, is idealized and only functions under certain conditions, free from emotion, memory loss, distraction, etc.\n",
      "\n",
      "However, other researchers ignore Chomsky's definitions of competence and study language as a practical function of human behaviour. From this perspective, linguistic competence is a learned behaviour and not necessarily linked to thinking, as it does not require the conscious understanding of language rules. Chomsky's theories have sparked much debate among linguists, and many have criticised his distinction between competence and performance.\n",
      "\n",
      "This concept remains an important aspect of linguistic theory and education, and researchers continue to study and refine it.\n",
      "n_snippets: 14\n",
      "---\n",
      "Ought everyone to pursue the most morally valuable career possible for them?\n",
      "Most people consider themselves to be good and hope to act ethically especially in pivotal moments. However, decades of research have shown that people's moral judgment can be clouded by psychological and social processes, leading them to act contrary to their values. The notion of moral superiority, especially in relation to others, can have negative consequences such as reducing the willingness to cooperate, create intolerance and even lead to violence. \n",
      "\n",
      "The sources suggest that to build an ethical career, one ought to adopt a mindset of moral humility, acknowledge the potential for ethical transgressions and implement safeguards against them. One way of doing this is by adopting a three-stage approach involving preparation, decision-making in the moment and reflecting on past actions. \n",
      "\n",
      "While the responsibility to act ethically lies with the individual, the sources also indicate that most people's perception of themselves as morally superior to others is irrational and rooted in a phenomenon termed the \"self-enhancement\" effect. People should thus strive to be morally vigilant, reflect on their actions and implement safeguards, but also be aware of the cognitive biases that might lead them to believe they are acting more morally than they actually are. Across the population, the pursuit of the most morally valuable career might be difficult owing to the aforementioned psychological effects. However, a collective effort towards this goal could prove beneficial to society.\n",
      "n_snippets: 16\n",
      "---\n",
      "Is God gendered?\n",
      "The perception of God's gender varies across different religions and denominations.\n",
      "\n",
      "In Christianity, God the Father is often referred to with male pronouns, and Jesus, the physical manifestation of God the Son, is male. Some Christian denominations, such as The Church of Jesus Christ of Latter-day Saints, view God the Father as married to a female, Heavenly Mother. The Catholic Church states that God \"transcends the human distinction between the sexes\" and is neither man nor woman.\n",
      "\n",
      "The Guru Granth Sahib, the Sikh scripture, consistently refers to God as \"He\" and \"Father,\" mainly because Punjabi, the language in which it was written, has no gender-neutral pronouns. Sikhism considers God to have no gender.\n",
      "\n",
      "In Judaism, the Tanakh refers to God with masculine imagery and grammatical forms, but Jewish philosophy does not attribute sex to God. Some modern Jewish thinkers view God as existing outside the gender binary.\n",
      "\n",
      "In Islam, God (Allah) is viewed as transcendent and beyond any gender attributes. Arabic, the language of the Quran, has no gender-neutral pronouns, so God is typically referred to using the masculine form.\n",
      "\n",
      "Hinduism is diverse in its conceptualization of God and gender. Some traditions conceive God as androgynous (both female and male), some as male, and others as female.\n",
      "\n",
      "The Baha'i Faith characterizes God as both masculine and feminine.\n",
      "\n",
      "Polytheistic religions often depict gods and goddesses as having distinct genders so that they can interact sexually.\n",
      "\n",
      "There are also denominations that believe God is genderless. Unificationism, for example, views God, the Creator, as having both masculine and feminine characteristics since mankind is a combination of male and female traits as per Genesis 1:27.\n",
      "n_snippets: 17\n",
      "---\n",
      "Should universities accept donations from oligarchs?\n",
      "There has been much debate surrounding the acceptance of donations from oligarchs by universities. In recent years, many universities in the West have been recipient to large donations from Russian oligarchs, notably including Cambridge University which received £3m from Vladimir Potanin.\n",
      "\n",
      "Some argue that donations from oligarchs help universities to become more financially stable and enable them to award more scholarships. These donations may also help to establish positive relationships between the university and the donor, as seen with Ukrainian oligarch Dmitry Firtash and Cambridge University. Firtash funded several scholarships at the university and was invited to an annual dinner as part of the elite Cambridge Guild. The university also awarded him a medal for his philanthropy. \n",
      "\n",
      "However, such donations have faced a lot of criticism. Many believe that oligarchs donate large sums of money to \"launder their reputations\" and integrate themselves socially and financially in Western society. This may also apply to the children of oligarchs who hope to get into prestigious universities. Hence, universities risk losing their credibility and moral integrity by accepting donations from questionable sources. Following the 2022 Russian invasion of Ukraine, several universities have faced calls to distance themselves from Russian donors. Oxford University, for example, has been urged to cut its ties with Russian money, including donations from Vladimir Potanin.\n",
      "\n",
      "Some universities have started to refuse donations from certain sources. Cambridge University, for instance, has insisted that \"family connections or donations do not, and will not, play a role in the assessment process\". Others argue that universities should be better funded so as to not rely on potentially disreputable cash donations.\n",
      "n_snippets: 16\n",
      "---\n",
      "Should strip-searches be banned?\n",
      "In the U.S., the Fourth Amendment to the Constitution declares that a person \"has a right to be free from unreasonable searches\". Strip searches should only be performed when necessary and are usually thought to be illegal when they are not reasonably necessary, are conducted in a degrading manner, or are carried out without probable cause.\n",
      "\n",
      "Routine strip searches were banned in Canada by the Supreme Court of Canada, which decided that they could only be carried out with a solid and specific reason.\n",
      "\n",
      "In general, strip searches are a highly invasive procedure that can be very embarrassing and humiliating for the individual being searched. Because of this, some jurisdictions have ruled that strip searches are only lawful when the person being searched has been legally arrested for a crime. Some sources assert that strip searches should only be allowed when authorized by a senior officer and conducted by an officer of the same sex as the individual being searched. Additionally, it should only be carried out in the presence of officers of the same sex as the individual and never in a degrading manner. Strip searches may also be unlawful when conducted under the authority of someone who does not have the power to carry out such a search, such as in the case of a strip search scam.\n",
      "\n",
      "While they may be unpleasant and intrusive, strip searches are an important method of ensuring security and order in jails and prisons, where they are often carried out to prevent the smuggling of drugs, weapons, and other contraband.\n",
      "n_snippets: 16\n",
      "---\n",
      "Should prisons be abolished?\n",
      "There are many arguments for and against abolishing prisons. Prisons have been argued to be dehumanizing, damaging, and a force for entrenching disadvantage which fuels crime and societal harm. Instead of prioritizing punishment, some argue that we should prioritize care, community and genuine safety for everyone.\n",
      "\n",
      "Prisons have also been argued to be ineffective in creating individual or societal change. Many who support prison abolition have come to the movement through experiencing violence and state-sanctioned neglect. They argue that prisons are used by the powerful to control the most marginalized members of society while protecting the powerful from being held accountable.\n",
      "\n",
      "Some argue that prisons should not be completely abolished but that the current system of incarceration should be replaced with a system of restorative justice which is victim-centered. Restorative justice involves going to the people who have been harmed and helping them find a solution which could involve the government intervening in a way that helps the victim feel better. This could also involve responding to the problems of the perpetrator in a way that would help them avoid similar conduct in the future. \n",
      "\n",
      "Georgetown Law Professor Paul Butler notes that most of the world does not use prisons in the same way that the US does, yet these countries are still as safe, or safer, than the US. Butler also argues that Dickens could be considered the first prison abolitionist. There have been important waves of prison abolition since Dickens' time, for example, in Norway, other Scandinavian countries, and Argentina.\n",
      "\n",
      "Prison abolitionism is a radical goal that envisions a world without cages. Abolitionists argue that imprisonment is morally reprehensible and indefensible. However, abolition is likely a long-range goal. Alternatively, prison reform could be implemented to reduce the harm caused by the current prison system. Prisons could also be reserved for the most heinous and threatening criminals.\n",
      "n_snippets: 19\n",
      "---\n",
      "Can a constitution be codified?\n",
      "Yes, a constitution can be codified. To codify a constitution means to set out the rules governing a country in a single, written document. Constitutions are generally the most fundamental rules of a country or state and their codification can help to ensure clarity, authoritativeness and protection of basic rights. \n",
      "\n",
      "The process of codification involves arranging the laws, rules or regulations of a constitution into a systematic code. The US constitution is an example of a codified constitution. Codified constitutions often have advantages over uncodified constitutions, as they can help to limit the government's power by establishing clear boundaries. However, they can also be rigid and difficult to amend or abolish. \n",
      "\n",
      "Only four countries have uncodified constitutions: the UK, Israel, New Zealand and Canada.\n",
      "n_snippets: 17\n",
      "---\n",
      "Should genetically modified foods be more tightly regulated?\n",
      "The regulation of genetically modified foods (GM foods) is a highly debated topic due to the ambiguity surrounding their health effects. GM foods are currently regulated by various agencies worldwide, but the extent of their safety evaluation varies considerably. \n",
      "\n",
      "The potential risks associated with GM foods are concerned with the presence of toxins, allergens, or genetic hazards. Uncertainties about their long-term effects on human health and the environment are reasons why many people avoid them. GM foods have the potential to cause unpredictable allergic reactions and the transfer of genes between animals and plants, which can impact other organisms in the ecosystem. \n",
      "\n",
      "Additionally, the ethical, ecological and environmental consequences of GM foods are widely discussed. GM technologies can have far-reaching implications, including intellectual property rights, food security, and environmental conservation. \n",
      "\n",
      "Some argue that the benefits of GM foods outweigh the risks. GM foods can provide a solution to certain dietary diseases, increase productivity, and grow in places where traditional crops struggle. The modified crops can withstand harsh climatic conditions and have a longer shelf life. Moreover, the reduced need for pesticides and insecticides in GM crops can make them relatively safer and environmentally friendly.\n",
      "\n",
      "Therefore, until there is a comprehensive understanding of the long-term impacts of GM foods on biological systems, more robust regulations and labelling requirements are essential to ensure consumer safety and awareness.\n",
      "n_snippets: 8\n",
      "---\n",
      "Should drugs be legalized?\n",
      "There are persuasive arguments on both sides of the fence regarding the legalization of drugs. Some people believe that the criminalization of drug users contributes to generating divides in societies and that the majority of addicts are not criminals but should be helped in other ways. Drug prohibition has also been argued to infringe on civil liberties.\n",
      "Proponents of legalization also claim that legalizing drugs would save the government enormous sums of money that could be better spent on other initiatives to combat more serious crimes, drug education, and treatment. Some also believe that the drug war has proven ineffective in reducing drug abuse and associated crimes and that legalizing drugs would reduce the dangers to public health from using them.\n",
      "On the other hand, some analysts believe that drug legalization would result in increased drug consumption, addiction, and health problems, along with reduced economic productivity. A major reason why some people are against drug legalization is that it might increase the number of casual users, which would then increase the number of drug abusers. Further arguments against legalization include the potential negative consequences for public health and the saturation of the market with harmful drugs. The media have also played a significant role in shaping public discourse and policy-making against legalization.\n",
      "n_snippets: 13\n",
      "---\n",
      "Should foreign corporate ownership of U.S. companies be restricted?\n",
      "Generally, there are no restrictions on foreign ownership of a company formed in the United States. The procedure for a foreign citizen to form a company in the US is the same as for a US resident. Foreign ownership of US companies is widespread and applies to corporate and individual levels.\n",
      "\n",
      "However, certain business structures restrict non-US citizens from owning certain businesses in the US, for example, some business formations restrict whether non-US citizens can be owners of the business incorporated as a company or corporation in the country. LLCs, on the other hand, do not have these limitations. \n",
      "\n",
      "Furthermore, certain sectors may have restrictions on foreign ownership, for example, in Belgium, foreign ownership in sectors such as banking and insurance, energy, broadcasting, telecoms and postal services may require authorisation. In the US, certain acquisitions of US companies by foreign corporations require a change of control application to be made to the Bermuda Monetary Authority. In Russia, a law passed in 2014 reduced the foreign ownership ceiling in print publications, and radio and television outlets from 50% to 20%. \n",
      "\n",
      "Foreign ownership of US companies can have both benefits and drawbacks:\n",
      "**Benefits:**\n",
      "- The transfer of technology and organisational knowledge can increase productivity.\n",
      "- US companies can learn from multinational corporations.\n",
      "- It increases employment and wages.\n",
      "- It lowers prices and improves product quality.\n",
      "**Drawbacks:**\n",
      "- Foreign ownership can increase product demand, leading to price increases.\n",
      "- It can cause domestic companies to become less competitive.\n",
      "- Multinational corporations may influence government policies.\n",
      "- It can lead to the demise of local economies.\n",
      "\n",
      "Ultimately, the decision to restrict foreign corporate ownership of US companies is a matter of great complexity, with strong arguments for and against.\n",
      "n_snippets: 11\n",
      "---\n",
      "Should the use of animals for medical research be banned?\n",
      "The use of animals for research purposes has been a long-standing ethical debate. Animals are used to develop medical treatments, determine the toxicity of medications and check the safety of products for human use.\n",
      "Proponents of animal testing argue that it contributes to life-saving cures and treatments, and that animals are similar to humans biologically, making them good research subjects. They also claim that animal research is highly regulated with laws in place to protect animals from mistreatment. Animal experiments are also conducted to avoid putting human volunteers in danger and some experiments involve genetic manipulation that would be unacceptable to impose on humans. Furthermore, animals often make better research subjects than humans because of their shorter lifespans, which allows researchers to study the effects of treatments over several generations quickly.\n",
      "On the other hand, opponents of animal testing find the practice to be cruel and inhumane, with Animal Society International stating that animals used in experiments are subjected to infliction of pain, wounds and force feeding. They argue that using alternatives to animals in research would be more ethical. Some companies skipped animal testing during the COVID-19 pandemic, demonstrating that animal testing is not always necessary. Furthermore, there is little predictive value in animal experiments due to differences in physiology between species. Using chimpanzees, for example, which share 99% of their DNA with humans, has proven to be an unreliable method of predicting human responses. \n",
      "\n",
      "Therefore, animal testing, while contributing to some medical breakthroughs, is an inhumane practice that has been shown to have little predictive value for human physiology. With growing concerns about animal welfare and the development of alternative methods, a ban on the use of animals for medical research could be justified.\n",
      "n_snippets: 16\n",
      "---\n",
      "Should genetically modified foods be allowed in grocery stores?\n",
      "The availability of genetically modified foods in grocery stores has been a topic of debate for years now. Genetically modified foods have many benefits but also pose some risks to human health and the environment.\n",
      "Genetically modified foods have several advantages:\n",
      "- They have an increased shelf life, reducing the fear of foods spoiling quickly.\n",
      "- They are nutrient-rich, containing higher amounts of vitamins and minerals and improved flavours compared to traditionally grown foods.\n",
      "- They can help feed the population in times of drought or poor soil conditions.\n",
      "- They can be modified to resist diseases and pests, reducing the need for pesticides and insecticides and making them environmentally friendly.\n",
      "- DNA modification can help eliminate properties that cause allergies.\n",
      "\n",
      "The health risks of consuming genetically modified foods are concerned with the presence of toxins, allergens, or genetic hazards. Unforeseen changes in the genetic makeup of foods may occur, leading to unpredictable allergenic effects. The long-term effects of consuming genetically modified foods are mostly unknown. This lack of knowledge about the effects on human health makes many people hesitant and wary of such foods. \n",
      "\n",
      "Besides the health concerns, there are also ecological concerns related to genetically modified crops. There is a possibility of damage to other organisms in the environment due to cross-pollination. Genetically modified crops may have a negative impact on the ecosystem and contribute to the development of antibiotic-resistant diseases.\n",
      "\n",
      "In conclusion, more research is required to understand the extensive implications of genetically modified foods on human health and the ecosystem before they can be universally accepted. However, they should not be prohibited outright, given their potential benefits in the face of global challenges like food security in adverse climatic conditions, malnutrition, and poor soil quality.\n",
      "n_snippets: 8\n",
      "---\n",
      "Should lawmakers be subject to term limits?\n",
      "The question of term limits for lawmakers is a highly debated topic, with powerful arguments on both sides. Term limits may curtail the forces of corruption and stabilize the government by limiting the time elected officials can spend in power. Additionally, supporters of term limits argue that this would be an effective mechanism for improving the effectiveness and efficiency of Congress and government. Term limits would also ensure that lawmaking power is not concentrated in a small group of individuals, thereby allowing new representatives with fresh perspectives to enter the legislative process.\n",
      "\n",
      "Opponents of term limits for lawmakers argue that this system would result in a significant loss of experience and institutional knowledge. Lawmakers gain valuable skills and expertise from their work, and term limits would force these skilled individuals out of the job, which could be detrimental to the legislative process. Furthermore, the argument that elections are unable to remove unresponsive or ineffective members of Congress is invalid, as constituents can achieve this themselves by voting. Term limits would also increase the influence of lobbyists and special interests, as novice legislators would rely on them to fill their own informational gaps. \n",
      "\n",
      "Term limits have never been implemented at the federal level in the United States, but some states have implemented them for their state legislatures. Voters in six additional states voted in favor of term limits, only to have their votes nullified, while in two states, the state legislature nullified the limits. \n",
      "\n",
      "Political scientists have studied the impact of term limits in these states, and some studies find that these limits exacerbate the issues advocates hope to curtail by imposing them. Therefore, the evidence suggests that term limits may not be a viable solution, and other mechanisms, such as elections, should be relied upon to remove ineffective representatives.\n",
      "n_snippets: 18\n",
      "---\n",
      "Should countries practice universal basic income?\n",
      "Universal basic income (UBI) is a social welfare proposal under which all citizens of a country regularly receive a guaranteed minimum income. This is given in the form of an unconditional transfer payment - that is, without the means test or need to work. Should countries adopt UBI is a much-debated topic.\n",
      "\n",
      "UBI has been increasingly discussed across the world, especially as a response to the COVID-19 pandemic. Temporary direct cash transfer programs were introduced by around ninety countries and regions, including the United States, Spain, Hong Kong and Japan. Polls conducted during the pandemic suggested widespread support for UBI in public opinion. A 2020 study by Oxford University found that 71% of Europeans are in favour of basic income. A Pew Research Center survey from the same year, however, found that 54% of US adults oppose the federal government providing a guaranteed income of $1,000 per month to all adults, while 45% support it.\n",
      "\n",
      "Numerous pilot projects for UBI have been carried out. In 2020, Germany began a UBI trial where people received about $1,400 monthly for three years. A similar project was launched in Wales the same year. Finland conducted a two-year UBI trial and Ontario launched a basic income pilot for 4,000 people in three cities. A small village in Kenya implemented a UBI program and claimed to have achieved stabilizing results. A basic income project in India also reported positive findings.\n",
      "\n",
      "There are several welfare arrangements that can be considered similar to UBI, such as child benefit or pension. Furthermore, some argue that UBI could be a solution to automation, fewer jobs, and lower wages. UBI is also advocated for by some politicians and thinkers.\n",
      "\n",
      "The main arguments against adopting UBI are likely to be economic, coupled with the fact that such a scheme would be extremely expensive to implement. For instance, a majority of Americans oppose a universal basic income, according to a poll by the Pew Research Center.\n",
      "\n",
      "In conclusion, although no country has a full UBI scheme in place, many countries are moving towards accepting and implementing pilot projects in this area. The pandemic has strengthened the case for introducing such policies, at least temporarily, as a form of crisis management. Whether countries should practice UBI will remain a matter of debate until more conclusive evidence supporting UBI's success - or otherwise - emerges from these trials.\n",
      "n_snippets: 16\n",
      "---\n",
      "Should people be able to grow their own food in metro cities?\n",
      "Urban farming, a term that covers all sorts of farming in and near cities, has taken off in the last few years. Various forms of urban farming such as indoor farming, community garden stewardship and rooftop production come with many benefits and contribute significantly to making the food system more sustainable.\n",
      "\n",
      "The FAO estimates that a one-metre square garden plot can produce 20kg of food per year. Having the opportunity to grow food in cities not only reduces food waste but also provides an opportunity to reconnect with nature and learn about the current global food system's shortcomings. \n",
      "\n",
      "With the world's population largely concentrated in cities, the practice of urban farming could potentially make the food easily accessible and available to many. Additionally, growing food locally also reduces the carbon footprint left by food transportation. \n",
      "\n",
      "So yes, people definitely should be able to grow their own food in metro cities. There are multiple ways to do so, some of which have been listed below.\n",
      "- Plan your garden and buy peat-free soil \n",
      "- Focus on microgreens if you have a small apartment with no outdoor space\n",
      "- Vertical farming\n",
      "- Join a community garden\n",
      "- Herbs can be grown on balconies and windowsills\n",
      "n_snippets: 19\n",
      "---\n",
      "Should governments provide universal basic income?\n",
      "The idea of universal basic income (UBI) is not a new one. Thomas Paine, for example, proposed a similar tax plan in the 1700s. UBI is a government programme under which every adult citizen receives a regular, set amount of money. The theoretical goals of such a system are to reduce poverty and cut bureaucracy.\n",
      "\n",
      "The interest in UBI has increased in recent years, due to economic stressors, increased automation and wealth disparities. Small-scale experiments have been conducted to test the waters, including a two-year experiment in Finland. \n",
      "\n",
      "Supporters of UBI claim it could be a way of ensuring citizens' financial security, particularly in times of economic crisis, and might help those who are left behind by the increasing automation of the economy. They also suggest it could reduce the size of government and cut the cost of social programs.\n",
      "\n",
      "However, UBI is expensive and there is little evidence to suggest it would increase employment. Critics worry that recipients would become reliant on the government handouts and neglect their jobs, which could hurt the economy. It's also argued that UBI might result in reduced social programs, which could negatively impact the poorest in society.\n",
      "\n",
      "There is no clear consensus on whether or not governments should introduce UBI. Proponents and opponents have valid points, and the policy itself is complex. There are also many different motivations for introducing it, depending on the context.\n",
      "n_snippets: 14\n",
      "---\n",
      "Should there be a minimum wage for all jobs?\n",
      "The purpose of minimum wages is to protect workers against unduly low pay and ensure a just and equitable share of the fruits of progress to all workers. In the U.S., the federal minimum wage for covered nonexempt employees is $7.25 per hour. However, most states also have their own minimum wage laws, and some states have laws that are higher than the federal rate. In cases where an employee is subject to both the state and federal minimum wage laws, they are entitled to the higher minimum wage. \n",
      "\n",
      "Some worker groups are exempt from federal minimum wage laws. These include: \n",
      "\n",
      "- Independent contractors\n",
      "- Outside salespeople\n",
      "- Workers with disabilities\n",
      "- Full-time students\n",
      "- Youth under the age of 20 during their first 90 consecutive days of employment\n",
      "- Tipped employees\n",
      "\n",
      "However, even if a business or its employees are exempt from federal minimum wage law, they may still be covered by state or local law. For example, some states have minimum wage laws specific to tipped employees. \n",
      "\n",
      "Minimum wage laws should not be seen in isolation, but designed to supplement and reinforce other social and employment policies. They can help to overcome poverty and reduce inequality, including that between men and women.\n",
      "\n",
      "In conclusion, a minimum wage is beneficial for workers and a minimum wage should be universally applied to all jobs. However, in practice, this is not the case, and some workers are exempt from minimum wage laws.\n",
      "n_snippets: 17\n",
      "---\n"
     ]
    }
   ],
   "source": [
    "for one_query in all_outputs:\n",
    "    print(one_query[\"query\"])\n",
    "    print(one_query[\"response\"])\n",
    "    # print(one_query[\"meta\"])\n",
    "    print('n_snippets:', len(one_query[\"used_documents\"]))\n",
    "    print('---')"
   ]
  },
  {
   "cell_type": "code",
   "execution_count": 139,
   "id": "733d91d6-40a2-424c-8159-0a9317e6be58",
   "metadata": {},
   "outputs": [],
   "source": [
    "# for one_query in all_outputs_raw:\n",
    "#     one_query['raw_cohere_gen'] = one_query['raw_cohere_gen'].__repr__()\n",
    "\n",
    "with open('../outputs/cohere_you_20nelsonqueries/cohere_topk2_you_20snippet_raw.pkl', 'wb') as fout:\n",
    "    pickle.dump(all_outputs_raw, fout)"
   ]
  },
  {
   "cell_type": "code",
   "execution_count": 141,
   "id": "2e17d19a-f957-4516-b475-89e3ae889e8b",
   "metadata": {},
   "outputs": [],
   "source": [
    "with open('../outputs/cohere_you_20nelsonqueries/cohere_topk2_you_20snippet.json', 'w') as fout:\n",
    "    json.dump(all_outputs, fout, indent=2)"
   ]
  },
  {
   "cell_type": "markdown",
   "id": "4ff04980-101f-4fcc-8bf2-3590b9d2575d",
   "metadata": {},
   "source": [
    "#### Analyze outputs"
   ]
  },
  {
   "cell_type": "code",
   "execution_count": 13,
   "id": "a1d9aa00-20a0-4547-b518-80b0922f4605",
   "metadata": {},
   "outputs": [],
   "source": [
    "with open('../outputs/cohere_you_20nelsonqueries/cohere_topk2_you_20snippet.json', 'r') as fin:\n",
    "    all_outputs = json.load(fin)"
   ]
  },
  {
   "cell_type": "code",
   "execution_count": 31,
   "id": "91268967-b46d-4d07-b342-2bbc11a1126a",
   "metadata": {},
   "outputs": [],
   "source": [
    "out_str_list = []\n",
    "for one_query in all_outputs:\n",
    "    out_str_list.append(f\"Query: {one_query['query']}\\n\")\n",
    "    out_str_list.append(f\"Response:\\n{one_query['response']}\\n\")\n",
    "    out_str_list.append('\\nCitations:')\n",
    "    out_str_list.extend([f\"text: {one_cit['text']}\\tdocs:{one_cit['document_ids']}\" for one_cit in one_query[\"citations\"]])\n",
    "    \n",
    "    out_str_list.append('\\nSnippets:')\n",
    "    out_str_list.extend([f\"doc_id: {one_doc['id']}\\ttitle:{one_doc['title']}\\nsnippet:{one_doc['snippet']}\\n\" for one_doc in one_query[\"used_documents\"]])\n",
    "    \n",
    "    out_str_list.append('\\nAll Snippets:')\n",
    "    out_str_list.extend([f\"title:{one_doc['title']}\\nsnippet:{one_doc['snippet']}\\n\" for one_doc in one_query[\"search_results\"][:20]])\n",
    "    out_str_list.append('---\\n')"
   ]
  },
  {
   "cell_type": "code",
   "execution_count": 32,
   "id": "24562286-2a2c-4cc7-97e5-49247c9fe226",
   "metadata": {},
   "outputs": [],
   "source": [
    "with open('../outputs/cohere_you_20nelsonqueries/cohere_topk2_you_20snippet_viz.txt', 'w') as fout:\n",
    "    fout.write('\\n'.join(out_str_list))"
   ]
  },
  {
   "cell_type": "code",
   "execution_count": null,
   "id": "9f6ae593-edb8-4e3a-aed4-51f0c52e4fb7",
   "metadata": {},
   "outputs": [],
   "source": []
  }
 ],
 "metadata": {
  "kernelspec": {
   "display_name": "Python 3 (ipykernel)",
   "language": "python",
   "name": "python3"
  },
  "language_info": {
   "codemirror_mode": {
    "name": "ipython",
    "version": 3
   },
   "file_extension": ".py",
   "mimetype": "text/x-python",
   "name": "python",
   "nbconvert_exporter": "python",
   "pygments_lexer": "ipython3",
   "version": "3.8.18"
  }
 },
 "nbformat": 4,
 "nbformat_minor": 5
}
